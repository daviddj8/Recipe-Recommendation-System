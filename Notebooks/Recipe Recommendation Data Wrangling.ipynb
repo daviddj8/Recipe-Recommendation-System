{
 "cells": [
  {
   "cell_type": "markdown",
   "id": "9a891fd6-4877-4f7e-8453-45fed809f610",
   "metadata": {},
   "source": [
    "# Data Wrangling and EDA"
   ]
  },
  {
   "cell_type": "markdown",
   "id": "757a2369-e575-409d-8c04-66544847fe2e",
   "metadata": {},
   "source": [
    "## Import raw data"
   ]
  },
  {
   "cell_type": "markdown",
   "id": "65c33e89-d116-45ab-9b6e-5cfea671d5bb",
   "metadata": {},
   "source": [
    "Raw data is in csv format and is located online here: https://www.kaggle.com/datasets/shuyangli94/food-com-recipes-and-user-interactions/"
   ]
  },
  {
   "cell_type": "code",
   "execution_count": 1,
   "id": "fc26f34f-5a7a-443d-9361-1fb41a9df822",
   "metadata": {},
   "outputs": [],
   "source": [
    "# Import necessary modules\n",
    "import pandas as pd\n",
    "import numpy as np\n",
    "import csv\n",
    "import matplotlib.pyplot as plt\n",
    "import seaborn as sns"
   ]
  },
  {
   "cell_type": "code",
   "execution_count": 2,
   "id": "24e0179c-20ec-4520-82e7-a46ecaf2b09a",
   "metadata": {},
   "outputs": [
    {
     "data": {
      "text/html": [
       "<div>\n",
       "<style scoped>\n",
       "    .dataframe tbody tr th:only-of-type {\n",
       "        vertical-align: middle;\n",
       "    }\n",
       "\n",
       "    .dataframe tbody tr th {\n",
       "        vertical-align: top;\n",
       "    }\n",
       "\n",
       "    .dataframe thead th {\n",
       "        text-align: right;\n",
       "    }\n",
       "</style>\n",
       "<table border=\"1\" class=\"dataframe\">\n",
       "  <thead>\n",
       "    <tr style=\"text-align: right;\">\n",
       "      <th></th>\n",
       "      <th>name</th>\n",
       "      <th>id</th>\n",
       "      <th>minutes</th>\n",
       "      <th>contributor_id</th>\n",
       "      <th>submitted</th>\n",
       "      <th>tags</th>\n",
       "      <th>nutrition</th>\n",
       "      <th>n_steps</th>\n",
       "      <th>steps</th>\n",
       "      <th>description</th>\n",
       "      <th>ingredients</th>\n",
       "      <th>n_ingredients</th>\n",
       "    </tr>\n",
       "  </thead>\n",
       "  <tbody>\n",
       "    <tr>\n",
       "      <th>0</th>\n",
       "      <td>arriba   baked winter squash mexican style</td>\n",
       "      <td>137739</td>\n",
       "      <td>55</td>\n",
       "      <td>47892</td>\n",
       "      <td>2005-09-16</td>\n",
       "      <td>['60-minutes-or-less', 'time-to-make', 'course...</td>\n",
       "      <td>[51.5, 0.0, 13.0, 0.0, 2.0, 0.0, 4.0]</td>\n",
       "      <td>11</td>\n",
       "      <td>['make a choice and proceed with recipe', 'dep...</td>\n",
       "      <td>autumn is my favorite time of year to cook! th...</td>\n",
       "      <td>['winter squash', 'mexican seasoning', 'mixed ...</td>\n",
       "      <td>7</td>\n",
       "    </tr>\n",
       "    <tr>\n",
       "      <th>1</th>\n",
       "      <td>a bit different  breakfast pizza</td>\n",
       "      <td>31490</td>\n",
       "      <td>30</td>\n",
       "      <td>26278</td>\n",
       "      <td>2002-06-17</td>\n",
       "      <td>['30-minutes-or-less', 'time-to-make', 'course...</td>\n",
       "      <td>[173.4, 18.0, 0.0, 17.0, 22.0, 35.0, 1.0]</td>\n",
       "      <td>9</td>\n",
       "      <td>['preheat oven to 425 degrees f', 'press dough...</td>\n",
       "      <td>this recipe calls for the crust to be prebaked...</td>\n",
       "      <td>['prepared pizza crust', 'sausage patty', 'egg...</td>\n",
       "      <td>6</td>\n",
       "    </tr>\n",
       "    <tr>\n",
       "      <th>2</th>\n",
       "      <td>all in the kitchen  chili</td>\n",
       "      <td>112140</td>\n",
       "      <td>130</td>\n",
       "      <td>196586</td>\n",
       "      <td>2005-02-25</td>\n",
       "      <td>['time-to-make', 'course', 'preparation', 'mai...</td>\n",
       "      <td>[269.8, 22.0, 32.0, 48.0, 39.0, 27.0, 5.0]</td>\n",
       "      <td>6</td>\n",
       "      <td>['brown ground beef in large pot', 'add choppe...</td>\n",
       "      <td>this modified version of 'mom's' chili was a h...</td>\n",
       "      <td>['ground beef', 'yellow onions', 'diced tomato...</td>\n",
       "      <td>13</td>\n",
       "    </tr>\n",
       "    <tr>\n",
       "      <th>3</th>\n",
       "      <td>alouette  potatoes</td>\n",
       "      <td>59389</td>\n",
       "      <td>45</td>\n",
       "      <td>68585</td>\n",
       "      <td>2003-04-14</td>\n",
       "      <td>['60-minutes-or-less', 'time-to-make', 'course...</td>\n",
       "      <td>[368.1, 17.0, 10.0, 2.0, 14.0, 8.0, 20.0]</td>\n",
       "      <td>11</td>\n",
       "      <td>['place potatoes in a large pot of lightly sal...</td>\n",
       "      <td>this is a super easy, great tasting, make ahea...</td>\n",
       "      <td>['spreadable cheese with garlic and herbs', 'n...</td>\n",
       "      <td>11</td>\n",
       "    </tr>\n",
       "    <tr>\n",
       "      <th>4</th>\n",
       "      <td>amish  tomato ketchup  for canning</td>\n",
       "      <td>44061</td>\n",
       "      <td>190</td>\n",
       "      <td>41706</td>\n",
       "      <td>2002-10-25</td>\n",
       "      <td>['weeknight', 'time-to-make', 'course', 'main-...</td>\n",
       "      <td>[352.9, 1.0, 337.0, 23.0, 3.0, 0.0, 28.0]</td>\n",
       "      <td>5</td>\n",
       "      <td>['mix all ingredients&amp; boil for 2 1 / 2 hours ...</td>\n",
       "      <td>my dh's amish mother raised him on this recipe...</td>\n",
       "      <td>['tomato juice', 'apple cider vinegar', 'sugar...</td>\n",
       "      <td>8</td>\n",
       "    </tr>\n",
       "  </tbody>\n",
       "</table>\n",
       "</div>"
      ],
      "text/plain": [
       "                                         name      id  minutes  \\\n",
       "0  arriba   baked winter squash mexican style  137739       55   \n",
       "1            a bit different  breakfast pizza   31490       30   \n",
       "2                   all in the kitchen  chili  112140      130   \n",
       "3                          alouette  potatoes   59389       45   \n",
       "4          amish  tomato ketchup  for canning   44061      190   \n",
       "\n",
       "   contributor_id   submitted  \\\n",
       "0           47892  2005-09-16   \n",
       "1           26278  2002-06-17   \n",
       "2          196586  2005-02-25   \n",
       "3           68585  2003-04-14   \n",
       "4           41706  2002-10-25   \n",
       "\n",
       "                                                tags  \\\n",
       "0  ['60-minutes-or-less', 'time-to-make', 'course...   \n",
       "1  ['30-minutes-or-less', 'time-to-make', 'course...   \n",
       "2  ['time-to-make', 'course', 'preparation', 'mai...   \n",
       "3  ['60-minutes-or-less', 'time-to-make', 'course...   \n",
       "4  ['weeknight', 'time-to-make', 'course', 'main-...   \n",
       "\n",
       "                                    nutrition  n_steps  \\\n",
       "0       [51.5, 0.0, 13.0, 0.0, 2.0, 0.0, 4.0]       11   \n",
       "1   [173.4, 18.0, 0.0, 17.0, 22.0, 35.0, 1.0]        9   \n",
       "2  [269.8, 22.0, 32.0, 48.0, 39.0, 27.0, 5.0]        6   \n",
       "3   [368.1, 17.0, 10.0, 2.0, 14.0, 8.0, 20.0]       11   \n",
       "4   [352.9, 1.0, 337.0, 23.0, 3.0, 0.0, 28.0]        5   \n",
       "\n",
       "                                               steps  \\\n",
       "0  ['make a choice and proceed with recipe', 'dep...   \n",
       "1  ['preheat oven to 425 degrees f', 'press dough...   \n",
       "2  ['brown ground beef in large pot', 'add choppe...   \n",
       "3  ['place potatoes in a large pot of lightly sal...   \n",
       "4  ['mix all ingredients& boil for 2 1 / 2 hours ...   \n",
       "\n",
       "                                         description  \\\n",
       "0  autumn is my favorite time of year to cook! th...   \n",
       "1  this recipe calls for the crust to be prebaked...   \n",
       "2  this modified version of 'mom's' chili was a h...   \n",
       "3  this is a super easy, great tasting, make ahea...   \n",
       "4  my dh's amish mother raised him on this recipe...   \n",
       "\n",
       "                                         ingredients  n_ingredients  \n",
       "0  ['winter squash', 'mexican seasoning', 'mixed ...              7  \n",
       "1  ['prepared pizza crust', 'sausage patty', 'egg...              6  \n",
       "2  ['ground beef', 'yellow onions', 'diced tomato...             13  \n",
       "3  ['spreadable cheese with garlic and herbs', 'n...             11  \n",
       "4  ['tomato juice', 'apple cider vinegar', 'sugar...              8  "
      ]
     },
     "execution_count": 2,
     "metadata": {},
     "output_type": "execute_result"
    }
   ],
   "source": [
    "# Read the raw data into a pandas df. There are two sets of data - one containing the recipes\n",
    "# the other containing the information regarding user interactions and reviews\n",
    "recipes_df = pd.read_csv('../Data/Raw/RAW_recipes.csv')\n",
    "recipes_df.head()"
   ]
  },
  {
   "cell_type": "code",
   "execution_count": 3,
   "id": "e7728232-8ce9-43a4-852f-eba966682d6f",
   "metadata": {},
   "outputs": [
    {
     "data": {
      "text/html": [
       "<div>\n",
       "<style scoped>\n",
       "    .dataframe tbody tr th:only-of-type {\n",
       "        vertical-align: middle;\n",
       "    }\n",
       "\n",
       "    .dataframe tbody tr th {\n",
       "        vertical-align: top;\n",
       "    }\n",
       "\n",
       "    .dataframe thead th {\n",
       "        text-align: right;\n",
       "    }\n",
       "</style>\n",
       "<table border=\"1\" class=\"dataframe\">\n",
       "  <thead>\n",
       "    <tr style=\"text-align: right;\">\n",
       "      <th></th>\n",
       "      <th>user_id</th>\n",
       "      <th>recipe_id</th>\n",
       "      <th>date</th>\n",
       "      <th>rating</th>\n",
       "      <th>review</th>\n",
       "    </tr>\n",
       "  </thead>\n",
       "  <tbody>\n",
       "    <tr>\n",
       "      <th>0</th>\n",
       "      <td>38094</td>\n",
       "      <td>40893</td>\n",
       "      <td>2003-02-17</td>\n",
       "      <td>4</td>\n",
       "      <td>Great with a salad. Cooked on top of stove for...</td>\n",
       "    </tr>\n",
       "    <tr>\n",
       "      <th>1</th>\n",
       "      <td>1293707</td>\n",
       "      <td>40893</td>\n",
       "      <td>2011-12-21</td>\n",
       "      <td>5</td>\n",
       "      <td>So simple, so delicious! Great for chilly fall...</td>\n",
       "    </tr>\n",
       "    <tr>\n",
       "      <th>2</th>\n",
       "      <td>8937</td>\n",
       "      <td>44394</td>\n",
       "      <td>2002-12-01</td>\n",
       "      <td>4</td>\n",
       "      <td>This worked very well and is EASY.  I used not...</td>\n",
       "    </tr>\n",
       "    <tr>\n",
       "      <th>3</th>\n",
       "      <td>126440</td>\n",
       "      <td>85009</td>\n",
       "      <td>2010-02-27</td>\n",
       "      <td>5</td>\n",
       "      <td>I made the Mexican topping and took it to bunk...</td>\n",
       "    </tr>\n",
       "    <tr>\n",
       "      <th>4</th>\n",
       "      <td>57222</td>\n",
       "      <td>85009</td>\n",
       "      <td>2011-10-01</td>\n",
       "      <td>5</td>\n",
       "      <td>Made the cheddar bacon topping, adding a sprin...</td>\n",
       "    </tr>\n",
       "  </tbody>\n",
       "</table>\n",
       "</div>"
      ],
      "text/plain": [
       "   user_id  recipe_id        date  rating  \\\n",
       "0    38094      40893  2003-02-17       4   \n",
       "1  1293707      40893  2011-12-21       5   \n",
       "2     8937      44394  2002-12-01       4   \n",
       "3   126440      85009  2010-02-27       5   \n",
       "4    57222      85009  2011-10-01       5   \n",
       "\n",
       "                                              review  \n",
       "0  Great with a salad. Cooked on top of stove for...  \n",
       "1  So simple, so delicious! Great for chilly fall...  \n",
       "2  This worked very well and is EASY.  I used not...  \n",
       "3  I made the Mexican topping and took it to bunk...  \n",
       "4  Made the cheddar bacon topping, adding a sprin...  "
      ]
     },
     "execution_count": 3,
     "metadata": {},
     "output_type": "execute_result"
    }
   ],
   "source": [
    "interactions_df = pd.read_csv('../Data/Raw/RAW_interactions.csv')\n",
    "interactions_df.head()"
   ]
  },
  {
   "cell_type": "code",
   "execution_count": 4,
   "id": "f3c4ad04-ce8b-4bc3-9bdd-5fc7729554d1",
   "metadata": {},
   "outputs": [
    {
     "name": "stdout",
     "output_type": "stream",
     "text": [
      "<class 'pandas.core.frame.DataFrame'>\n",
      "RangeIndex: 231637 entries, 0 to 231636\n",
      "Data columns (total 12 columns):\n",
      " #   Column          Non-Null Count   Dtype \n",
      "---  ------          --------------   ----- \n",
      " 0   name            231636 non-null  object\n",
      " 1   id              231637 non-null  int64 \n",
      " 2   minutes         231637 non-null  int64 \n",
      " 3   contributor_id  231637 non-null  int64 \n",
      " 4   submitted       231637 non-null  object\n",
      " 5   tags            231637 non-null  object\n",
      " 6   nutrition       231637 non-null  object\n",
      " 7   n_steps         231637 non-null  int64 \n",
      " 8   steps           231637 non-null  object\n",
      " 9   description     226658 non-null  object\n",
      " 10  ingredients     231637 non-null  object\n",
      " 11  n_ingredients   231637 non-null  int64 \n",
      "dtypes: int64(5), object(7)\n",
      "memory usage: 21.2+ MB\n",
      "None\n",
      "<class 'pandas.core.frame.DataFrame'>\n",
      "RangeIndex: 1132367 entries, 0 to 1132366\n",
      "Data columns (total 5 columns):\n",
      " #   Column     Non-Null Count    Dtype \n",
      "---  ------     --------------    ----- \n",
      " 0   user_id    1132367 non-null  int64 \n",
      " 1   recipe_id  1132367 non-null  int64 \n",
      " 2   date       1132367 non-null  object\n",
      " 3   rating     1132367 non-null  int64 \n",
      " 4   review     1132198 non-null  object\n",
      "dtypes: int64(3), object(2)\n",
      "memory usage: 43.2+ MB\n",
      "None\n"
     ]
    }
   ],
   "source": [
    "# Now let's inspect the data, looking for null values and determining what the datatypes are in each\n",
    "print(recipes_df.info())\n",
    "print(interactions_df.info())"
   ]
  },
  {
   "cell_type": "markdown",
   "id": "aba9255b-3509-4458-a586-85cd3d54fb59",
   "metadata": {},
   "source": [
    ">This data set is looking good so far.  There are very few null values, mostly associated with large text fields like description or review text. The other features seem mostly complete.  There is one recipe name that is null - maybe that will have to be fixed."
   ]
  },
  {
   "cell_type": "code",
   "execution_count": 5,
   "id": "859e5ee5-8803-49a2-bb8a-7079b7fe4b1e",
   "metadata": {},
   "outputs": [
    {
     "data": {
      "text/html": [
       "<div>\n",
       "<style scoped>\n",
       "    .dataframe tbody tr th:only-of-type {\n",
       "        vertical-align: middle;\n",
       "    }\n",
       "\n",
       "    .dataframe tbody tr th {\n",
       "        vertical-align: top;\n",
       "    }\n",
       "\n",
       "    .dataframe thead th {\n",
       "        text-align: right;\n",
       "    }\n",
       "</style>\n",
       "<table border=\"1\" class=\"dataframe\">\n",
       "  <thead>\n",
       "    <tr style=\"text-align: right;\">\n",
       "      <th></th>\n",
       "      <th>tags</th>\n",
       "      <th>ingredients</th>\n",
       "      <th>steps</th>\n",
       "    </tr>\n",
       "  </thead>\n",
       "  <tbody>\n",
       "    <tr>\n",
       "      <th>721</th>\n",
       "      <td>['15-minutes-or-less', 'time-to-make', 'course', 'preparation', 'low-protein', 'salads', 'easy', 'salad-dressings', 'dietary', 'low-sodium', 'inexpensive', 'low-in-something', '3-steps-or-less']</td>\n",
       "      <td>['lemon', 'honey', 'horseradish mustard', 'garlic clove', 'dried parsley', 'dried basil', 'dried thyme', 'garlic salt', 'black pepper', 'olive oil']</td>\n",
       "      <td>['in a bowl , combine ingredients except for olive oil', 'slowly whisk inches', 'olive oil until thickened', 'great with field greens', 'makes about 2 / 3', 'cup dressing']</td>\n",
       "    </tr>\n",
       "  </tbody>\n",
       "</table>\n",
       "</div>"
      ],
      "text/plain": [
       "                                                                                                                                                                                                   tags  \\\n",
       "721  ['15-minutes-or-less', 'time-to-make', 'course', 'preparation', 'low-protein', 'salads', 'easy', 'salad-dressings', 'dietary', 'low-sodium', 'inexpensive', 'low-in-something', '3-steps-or-less']   \n",
       "\n",
       "                                                                                                                                              ingredients  \\\n",
       "721  ['lemon', 'honey', 'horseradish mustard', 'garlic clove', 'dried parsley', 'dried basil', 'dried thyme', 'garlic salt', 'black pepper', 'olive oil']   \n",
       "\n",
       "                                                                                                                                                                            steps  \n",
       "721  ['in a bowl , combine ingredients except for olive oil', 'slowly whisk inches', 'olive oil until thickened', 'great with field greens', 'makes about 2 / 3', 'cup dressing']  "
      ]
     },
     "execution_count": 5,
     "metadata": {},
     "output_type": "execute_result"
    }
   ],
   "source": [
    "# Look at the recipe which does not have a name.\n",
    "pd.set_option('display.max_colwidth', None)\n",
    "recipes_df[recipes_df['name'].isna()][['tags','ingredients','steps']]"
   ]
  },
  {
   "cell_type": "code",
   "execution_count": 6,
   "id": "8935557d-4781-49b9-8e2b-76ff9640426b",
   "metadata": {},
   "outputs": [
    {
     "data": {
      "text/plain": [
       "name                                     lemon honey salad dressing\n",
       "id                                                           368257\n",
       "minutes                                                          10\n",
       "contributor_id                                               779451\n",
       "submitted                                                2009-04-27\n",
       "tags              ['15-minutes-or-less', 'time-to-make', 'course...\n",
       "nutrition             [1596.2, 249.0, 155.0, 0.0, 2.0, 112.0, 14.0]\n",
       "n_steps                                                           6\n",
       "steps             ['in a bowl , combine ingredients except for o...\n",
       "description                                           -------------\n",
       "ingredients       ['lemon', 'honey', 'horseradish mustard', 'gar...\n",
       "n_ingredients                                                    10\n",
       "Name: 721, dtype: object"
      ]
     },
     "execution_count": 6,
     "metadata": {},
     "output_type": "execute_result"
    }
   ],
   "source": [
    "# It looks as if this recipe is for a salad dressing.  I will rename it to indicate this\n",
    "pd.reset_option('display.max_colwidth')\n",
    "recipes_df.loc[721, 'name'] = 'lemon honey salad dressing'\n",
    "recipes_df.loc[721]"
   ]
  },
  {
   "cell_type": "code",
   "execution_count": 7,
   "id": "36d795b8-d740-47d4-b4f7-d67df9c7960a",
   "metadata": {},
   "outputs": [
    {
     "data": {
      "text/html": [
       "<div>\n",
       "<style scoped>\n",
       "    .dataframe tbody tr th:only-of-type {\n",
       "        vertical-align: middle;\n",
       "    }\n",
       "\n",
       "    .dataframe tbody tr th {\n",
       "        vertical-align: top;\n",
       "    }\n",
       "\n",
       "    .dataframe thead th {\n",
       "        text-align: right;\n",
       "    }\n",
       "</style>\n",
       "<table border=\"1\" class=\"dataframe\">\n",
       "  <thead>\n",
       "    <tr style=\"text-align: right;\">\n",
       "      <th></th>\n",
       "      <th>name</th>\n",
       "      <th>id</th>\n",
       "      <th>minutes</th>\n",
       "      <th>contributor_id</th>\n",
       "      <th>submitted</th>\n",
       "      <th>tags</th>\n",
       "      <th>nutrition</th>\n",
       "      <th>n_steps</th>\n",
       "      <th>steps</th>\n",
       "      <th>description</th>\n",
       "      <th>ingredients</th>\n",
       "      <th>n_ingredients</th>\n",
       "    </tr>\n",
       "  </thead>\n",
       "  <tbody>\n",
       "    <tr>\n",
       "      <th>0</th>\n",
       "      <td>arriba   baked winter squash mexican style</td>\n",
       "      <td>137739</td>\n",
       "      <td>55</td>\n",
       "      <td>47892</td>\n",
       "      <td>2005-09-16</td>\n",
       "      <td>['60-minutes-or-less', 'time-to-make', 'course...</td>\n",
       "      <td>[51.5, 0.0, 13.0, 0.0, 2.0, 0.0, 4.0]</td>\n",
       "      <td>11</td>\n",
       "      <td>['make a choice and proceed with recipe', 'dep...</td>\n",
       "      <td>autumn is my favorite time of year to cook! th...</td>\n",
       "      <td>['winter squash', 'mexican seasoning', 'mixed ...</td>\n",
       "      <td>7</td>\n",
       "    </tr>\n",
       "    <tr>\n",
       "      <th>1</th>\n",
       "      <td>a bit different  breakfast pizza</td>\n",
       "      <td>31490</td>\n",
       "      <td>30</td>\n",
       "      <td>26278</td>\n",
       "      <td>2002-06-17</td>\n",
       "      <td>['30-minutes-or-less', 'time-to-make', 'course...</td>\n",
       "      <td>[173.4, 18.0, 0.0, 17.0, 22.0, 35.0, 1.0]</td>\n",
       "      <td>9</td>\n",
       "      <td>['preheat oven to 425 degrees f', 'press dough...</td>\n",
       "      <td>this recipe calls for the crust to be prebaked...</td>\n",
       "      <td>['prepared pizza crust', 'sausage patty', 'egg...</td>\n",
       "      <td>6</td>\n",
       "    </tr>\n",
       "    <tr>\n",
       "      <th>2</th>\n",
       "      <td>all in the kitchen  chili</td>\n",
       "      <td>112140</td>\n",
       "      <td>130</td>\n",
       "      <td>196586</td>\n",
       "      <td>2005-02-25</td>\n",
       "      <td>['time-to-make', 'course', 'preparation', 'mai...</td>\n",
       "      <td>[269.8, 22.0, 32.0, 48.0, 39.0, 27.0, 5.0]</td>\n",
       "      <td>6</td>\n",
       "      <td>['brown ground beef in large pot', 'add choppe...</td>\n",
       "      <td>this modified version of 'mom's' chili was a h...</td>\n",
       "      <td>['ground beef', 'yellow onions', 'diced tomato...</td>\n",
       "      <td>13</td>\n",
       "    </tr>\n",
       "    <tr>\n",
       "      <th>3</th>\n",
       "      <td>alouette  potatoes</td>\n",
       "      <td>59389</td>\n",
       "      <td>45</td>\n",
       "      <td>68585</td>\n",
       "      <td>2003-04-14</td>\n",
       "      <td>['60-minutes-or-less', 'time-to-make', 'course...</td>\n",
       "      <td>[368.1, 17.0, 10.0, 2.0, 14.0, 8.0, 20.0]</td>\n",
       "      <td>11</td>\n",
       "      <td>['place potatoes in a large pot of lightly sal...</td>\n",
       "      <td>this is a super easy, great tasting, make ahea...</td>\n",
       "      <td>['spreadable cheese with garlic and herbs', 'n...</td>\n",
       "      <td>11</td>\n",
       "    </tr>\n",
       "    <tr>\n",
       "      <th>4</th>\n",
       "      <td>amish  tomato ketchup  for canning</td>\n",
       "      <td>44061</td>\n",
       "      <td>190</td>\n",
       "      <td>41706</td>\n",
       "      <td>2002-10-25</td>\n",
       "      <td>['weeknight', 'time-to-make', 'course', 'main-...</td>\n",
       "      <td>[352.9, 1.0, 337.0, 23.0, 3.0, 0.0, 28.0]</td>\n",
       "      <td>5</td>\n",
       "      <td>['mix all ingredients&amp; boil for 2 1 / 2 hours ...</td>\n",
       "      <td>my dh's amish mother raised him on this recipe...</td>\n",
       "      <td>['tomato juice', 'apple cider vinegar', 'sugar...</td>\n",
       "      <td>8</td>\n",
       "    </tr>\n",
       "  </tbody>\n",
       "</table>\n",
       "</div>"
      ],
      "text/plain": [
       "                                         name      id  minutes  \\\n",
       "0  arriba   baked winter squash mexican style  137739       55   \n",
       "1            a bit different  breakfast pizza   31490       30   \n",
       "2                   all in the kitchen  chili  112140      130   \n",
       "3                          alouette  potatoes   59389       45   \n",
       "4          amish  tomato ketchup  for canning   44061      190   \n",
       "\n",
       "   contributor_id   submitted  \\\n",
       "0           47892  2005-09-16   \n",
       "1           26278  2002-06-17   \n",
       "2          196586  2005-02-25   \n",
       "3           68585  2003-04-14   \n",
       "4           41706  2002-10-25   \n",
       "\n",
       "                                                tags  \\\n",
       "0  ['60-minutes-or-less', 'time-to-make', 'course...   \n",
       "1  ['30-minutes-or-less', 'time-to-make', 'course...   \n",
       "2  ['time-to-make', 'course', 'preparation', 'mai...   \n",
       "3  ['60-minutes-or-less', 'time-to-make', 'course...   \n",
       "4  ['weeknight', 'time-to-make', 'course', 'main-...   \n",
       "\n",
       "                                    nutrition  n_steps  \\\n",
       "0       [51.5, 0.0, 13.0, 0.0, 2.0, 0.0, 4.0]       11   \n",
       "1   [173.4, 18.0, 0.0, 17.0, 22.0, 35.0, 1.0]        9   \n",
       "2  [269.8, 22.0, 32.0, 48.0, 39.0, 27.0, 5.0]        6   \n",
       "3   [368.1, 17.0, 10.0, 2.0, 14.0, 8.0, 20.0]       11   \n",
       "4   [352.9, 1.0, 337.0, 23.0, 3.0, 0.0, 28.0]        5   \n",
       "\n",
       "                                               steps  \\\n",
       "0  ['make a choice and proceed with recipe', 'dep...   \n",
       "1  ['preheat oven to 425 degrees f', 'press dough...   \n",
       "2  ['brown ground beef in large pot', 'add choppe...   \n",
       "3  ['place potatoes in a large pot of lightly sal...   \n",
       "4  ['mix all ingredients& boil for 2 1 / 2 hours ...   \n",
       "\n",
       "                                         description  \\\n",
       "0  autumn is my favorite time of year to cook! th...   \n",
       "1  this recipe calls for the crust to be prebaked...   \n",
       "2  this modified version of 'mom's' chili was a h...   \n",
       "3  this is a super easy, great tasting, make ahea...   \n",
       "4  my dh's amish mother raised him on this recipe...   \n",
       "\n",
       "                                         ingredients  n_ingredients  \n",
       "0  ['winter squash', 'mexican seasoning', 'mixed ...              7  \n",
       "1  ['prepared pizza crust', 'sausage patty', 'egg...              6  \n",
       "2  ['ground beef', 'yellow onions', 'diced tomato...             13  \n",
       "3  ['spreadable cheese with garlic and herbs', 'n...             11  \n",
       "4  ['tomato juice', 'apple cider vinegar', 'sugar...              8  "
      ]
     },
     "execution_count": 7,
     "metadata": {},
     "output_type": "execute_result"
    }
   ],
   "source": [
    "recipes_df.head()"
   ]
  },
  {
   "cell_type": "markdown",
   "id": "7ce35570-a182-4dd4-8068-9410c04396c4",
   "metadata": {},
   "source": [
    "## Exploratory Data Analysis"
   ]
  },
  {
   "cell_type": "markdown",
   "id": "cfdcc71e-2c6a-48b9-bdae-60509274f0f5",
   "metadata": {},
   "source": [
    "### EDA for recipes_df:"
   ]
  },
  {
   "cell_type": "code",
   "execution_count": 8,
   "id": "56319a17-2be8-4d48-9bca-4a98245d0cf3",
   "metadata": {},
   "outputs": [
    {
     "data": {
      "text/plain": [
       "231637"
      ]
     },
     "execution_count": 8,
     "metadata": {},
     "output_type": "execute_result"
    }
   ],
   "source": [
    "# Check if all the recipe ids are unique\n",
    "recipes_df['id'].nunique()"
   ]
  },
  {
   "cell_type": "code",
   "execution_count": 9,
   "id": "843ca1fd-d946-4997-897c-49a1f6792d3e",
   "metadata": {},
   "outputs": [
    {
     "data": {
      "text/html": [
       "<div>\n",
       "<style scoped>\n",
       "    .dataframe tbody tr th:only-of-type {\n",
       "        vertical-align: middle;\n",
       "    }\n",
       "\n",
       "    .dataframe tbody tr th {\n",
       "        vertical-align: top;\n",
       "    }\n",
       "\n",
       "    .dataframe thead th {\n",
       "        text-align: right;\n",
       "    }\n",
       "</style>\n",
       "<table border=\"1\" class=\"dataframe\">\n",
       "  <thead>\n",
       "    <tr style=\"text-align: right;\">\n",
       "      <th></th>\n",
       "      <th>count</th>\n",
       "      <th>mean</th>\n",
       "      <th>std</th>\n",
       "      <th>min</th>\n",
       "      <th>25%</th>\n",
       "      <th>50%</th>\n",
       "      <th>75%</th>\n",
       "      <th>max</th>\n",
       "    </tr>\n",
       "  </thead>\n",
       "  <tbody>\n",
       "    <tr>\n",
       "      <th>id</th>\n",
       "      <td>231637.0</td>\n",
       "      <td>2.220147e+05</td>\n",
       "      <td>1.412066e+05</td>\n",
       "      <td>38.0</td>\n",
       "      <td>99944.0</td>\n",
       "      <td>207249.0</td>\n",
       "      <td>333816.0</td>\n",
       "      <td>5.377160e+05</td>\n",
       "    </tr>\n",
       "    <tr>\n",
       "      <th>minutes</th>\n",
       "      <td>231637.0</td>\n",
       "      <td>9.398546e+03</td>\n",
       "      <td>4.461963e+06</td>\n",
       "      <td>0.0</td>\n",
       "      <td>20.0</td>\n",
       "      <td>40.0</td>\n",
       "      <td>65.0</td>\n",
       "      <td>2.147484e+09</td>\n",
       "    </tr>\n",
       "    <tr>\n",
       "      <th>contributor_id</th>\n",
       "      <td>231637.0</td>\n",
       "      <td>5.534885e+06</td>\n",
       "      <td>9.979141e+07</td>\n",
       "      <td>27.0</td>\n",
       "      <td>56905.0</td>\n",
       "      <td>173614.0</td>\n",
       "      <td>398275.0</td>\n",
       "      <td>2.002290e+09</td>\n",
       "    </tr>\n",
       "    <tr>\n",
       "      <th>n_steps</th>\n",
       "      <td>231637.0</td>\n",
       "      <td>9.765499e+00</td>\n",
       "      <td>5.995128e+00</td>\n",
       "      <td>0.0</td>\n",
       "      <td>6.0</td>\n",
       "      <td>9.0</td>\n",
       "      <td>12.0</td>\n",
       "      <td>1.450000e+02</td>\n",
       "    </tr>\n",
       "    <tr>\n",
       "      <th>n_ingredients</th>\n",
       "      <td>231637.0</td>\n",
       "      <td>9.051153e+00</td>\n",
       "      <td>3.734796e+00</td>\n",
       "      <td>1.0</td>\n",
       "      <td>6.0</td>\n",
       "      <td>9.0</td>\n",
       "      <td>11.0</td>\n",
       "      <td>4.300000e+01</td>\n",
       "    </tr>\n",
       "  </tbody>\n",
       "</table>\n",
       "</div>"
      ],
      "text/plain": [
       "                   count          mean           std   min      25%       50%  \\\n",
       "id              231637.0  2.220147e+05  1.412066e+05  38.0  99944.0  207249.0   \n",
       "minutes         231637.0  9.398546e+03  4.461963e+06   0.0     20.0      40.0   \n",
       "contributor_id  231637.0  5.534885e+06  9.979141e+07  27.0  56905.0  173614.0   \n",
       "n_steps         231637.0  9.765499e+00  5.995128e+00   0.0      6.0       9.0   \n",
       "n_ingredients   231637.0  9.051153e+00  3.734796e+00   1.0      6.0       9.0   \n",
       "\n",
       "                     75%           max  \n",
       "id              333816.0  5.377160e+05  \n",
       "minutes             65.0  2.147484e+09  \n",
       "contributor_id  398275.0  2.002290e+09  \n",
       "n_steps             12.0  1.450000e+02  \n",
       "n_ingredients       11.0  4.300000e+01  "
      ]
     },
     "execution_count": 9,
     "metadata": {},
     "output_type": "execute_result"
    }
   ],
   "source": [
    "# Get summary statistics of the numerical columns\n",
    "recipes_df.describe().T"
   ]
  },
  {
   "cell_type": "markdown",
   "id": "a2c1b75f-5217-47e5-87b7-98fda88befa4",
   "metadata": {},
   "source": [
    ">From the above summary statistics, a few things stand out:\n",
    ">1. Minutes: the maximum minutes is 2e+09, this seems to be an error and will have to be investigated and fixed\n",
    ">2. n_steps: similarly for number of steps, the max is 145.  This could be an error as well and will have to be looked at\n",
    ">3. n_steps: the min number of steps is 0.  This can't be right as a recipe should have a minimum of 1 step"
   ]
  },
  {
   "cell_type": "code",
   "execution_count": 10,
   "id": "dba49215-f8c5-4576-b759-1f093e8eafe4",
   "metadata": {},
   "outputs": [
    {
     "data": {
      "text/html": [
       "<div>\n",
       "<style scoped>\n",
       "    .dataframe tbody tr th:only-of-type {\n",
       "        vertical-align: middle;\n",
       "    }\n",
       "\n",
       "    .dataframe tbody tr th {\n",
       "        vertical-align: top;\n",
       "    }\n",
       "\n",
       "    .dataframe thead th {\n",
       "        text-align: right;\n",
       "    }\n",
       "</style>\n",
       "<table border=\"1\" class=\"dataframe\">\n",
       "  <thead>\n",
       "    <tr style=\"text-align: right;\">\n",
       "      <th></th>\n",
       "      <th>name</th>\n",
       "      <th>id</th>\n",
       "      <th>minutes</th>\n",
       "      <th>contributor_id</th>\n",
       "      <th>submitted</th>\n",
       "      <th>tags</th>\n",
       "      <th>nutrition</th>\n",
       "      <th>n_steps</th>\n",
       "      <th>steps</th>\n",
       "      <th>description</th>\n",
       "      <th>ingredients</th>\n",
       "      <th>n_ingredients</th>\n",
       "    </tr>\n",
       "  </thead>\n",
       "  <tbody>\n",
       "    <tr>\n",
       "      <th>144074</th>\n",
       "      <td>no bake granola balls</td>\n",
       "      <td>261647</td>\n",
       "      <td>2147483647</td>\n",
       "      <td>464080</td>\n",
       "      <td>2007-10-26</td>\n",
       "      <td>['60-minutes-or-less', 'time-to-make', 'course', 'preparation', 'occasion', 'granola-and-porridge', 'hand-formed-cookies', 'breakfast', 'desserts', 'lunch', 'snacks', '1-day-or-more', 'cookies-and-brownies', 'to-go', 'camping']</td>\n",
       "      <td>[330.3, 23.0, 110.0, 4.0, 15.0, 24.0, 15.0]</td>\n",
       "      <td>9</td>\n",
       "      <td>['preheat the oven to 350 degrees', 'spread oats and coconut on a cookie sheet', 'place in the oven and toast for about 12 minutes , stirring twice , until lightly browned', 'meanwhile , combine the peanut butter , honey and brown sugar in a saucepan over medium heat , stirring continuously , until ingredients are thoroughly blended and sugar has completely melted', 'add the toasted oats and coconut to the peanut butter mixture , followed by the nuts , raisins and cranberries', 'stir to combine', 'set aside to cool for about 10 minutes', 'working with dampened hands , shape into bite sized balls and refrigerate for an hour', 'i usually let mine sit out for about 15 minutes prior to serving as we like them a little gooey just like my mighty nuts']</td>\n",
       "      <td>healthy snacks that kids (and grown ups) will love!  i originally got the recipe from whole foods, then changed it up a bit.  this is dairy-free and vegetarian.  note:  i have many a time made these without toasting the oats and coconut and it works out just fine that way as well :)</td>\n",
       "      <td>['rolled oats', 'unsweetened dried shredded coconut', 'crunchy peanut butter', 'honey', 'brown sugar', 'mixed nuts', 'raisins', 'dried cranberries']</td>\n",
       "      <td>8</td>\n",
       "    </tr>\n",
       "  </tbody>\n",
       "</table>\n",
       "</div>"
      ],
      "text/plain": [
       "                         name      id     minutes  contributor_id   submitted  \\\n",
       "144074  no bake granola balls  261647  2147483647          464080  2007-10-26   \n",
       "\n",
       "                                                                                                                                                                                                                                       tags  \\\n",
       "144074  ['60-minutes-or-less', 'time-to-make', 'course', 'preparation', 'occasion', 'granola-and-porridge', 'hand-formed-cookies', 'breakfast', 'desserts', 'lunch', 'snacks', '1-day-or-more', 'cookies-and-brownies', 'to-go', 'camping']   \n",
       "\n",
       "                                          nutrition  n_steps  \\\n",
       "144074  [330.3, 23.0, 110.0, 4.0, 15.0, 24.0, 15.0]        9   \n",
       "\n",
       "                                                                                                                                                                                                                                                                                                                                                                                                                                                                                                                                                                                                                                                                                                                                                                                       steps  \\\n",
       "144074  ['preheat the oven to 350 degrees', 'spread oats and coconut on a cookie sheet', 'place in the oven and toast for about 12 minutes , stirring twice , until lightly browned', 'meanwhile , combine the peanut butter , honey and brown sugar in a saucepan over medium heat , stirring continuously , until ingredients are thoroughly blended and sugar has completely melted', 'add the toasted oats and coconut to the peanut butter mixture , followed by the nuts , raisins and cranberries', 'stir to combine', 'set aside to cool for about 10 minutes', 'working with dampened hands , shape into bite sized balls and refrigerate for an hour', 'i usually let mine sit out for about 15 minutes prior to serving as we like them a little gooey just like my mighty nuts']   \n",
       "\n",
       "                                                                                                                                                                                                                                                                                        description  \\\n",
       "144074  healthy snacks that kids (and grown ups) will love!  i originally got the recipe from whole foods, then changed it up a bit.  this is dairy-free and vegetarian.  note:  i have many a time made these without toasting the oats and coconut and it works out just fine that way as well :)   \n",
       "\n",
       "                                                                                                                                                 ingredients  \\\n",
       "144074  ['rolled oats', 'unsweetened dried shredded coconut', 'crunchy peanut butter', 'honey', 'brown sugar', 'mixed nuts', 'raisins', 'dried cranberries']   \n",
       "\n",
       "        n_ingredients  \n",
       "144074              8  "
      ]
     },
     "execution_count": 10,
     "metadata": {},
     "output_type": "execute_result"
    }
   ],
   "source": [
    "# Let's take a look at the minutes feature.  Specifically the max.\n",
    "pd.set_option('display.max_colwidth', None)\n",
    "recipes_df[recipes_df['minutes'] >= 2000000]"
   ]
  },
  {
   "cell_type": "markdown",
   "id": "180ede6c-dfdd-4829-9850-6cc278a0c59b",
   "metadata": {},
   "source": [
    ">In the description for this recipe, it says it should take 60 minutes or less.  I will change the minutes column to reflect 60 minutes."
   ]
  },
  {
   "cell_type": "code",
   "execution_count": 11,
   "id": "eab33335-78d0-4c1a-a7cb-6b89ef46f2bd",
   "metadata": {},
   "outputs": [
    {
     "data": {
      "text/plain": [
       "name                                          no bake granola balls\n",
       "id                                                           261647\n",
       "minutes                                                          60\n",
       "contributor_id                                               464080\n",
       "submitted                                                2007-10-26\n",
       "tags              ['60-minutes-or-less', 'time-to-make', 'course...\n",
       "nutrition               [330.3, 23.0, 110.0, 4.0, 15.0, 24.0, 15.0]\n",
       "n_steps                                                           9\n",
       "steps             ['preheat the oven to 350 degrees', 'spread oa...\n",
       "description       healthy snacks that kids (and grown ups) will ...\n",
       "ingredients       ['rolled oats', 'unsweetened dried shredded co...\n",
       "n_ingredients                                                     8\n",
       "Name: 144074, dtype: object"
      ]
     },
     "execution_count": 11,
     "metadata": {},
     "output_type": "execute_result"
    }
   ],
   "source": [
    "# Changing the recipe for index 144074 to indicate that it should take 60 minutes\n",
    "pd.reset_option('display.max_colwidth')\n",
    "recipes_df.loc[144074,'minutes'] = 60\n",
    "recipes_df.loc[144074]"
   ]
  },
  {
   "cell_type": "code",
   "execution_count": 12,
   "id": "8932c480-6d40-4a62-b1dc-67ef54ed3cbd",
   "metadata": {},
   "outputs": [
    {
     "data": {
      "text/plain": [
       "count    2.316370e+05\n",
       "mean     1.276455e+02\n",
       "std      2.946337e+03\n",
       "min      0.000000e+00\n",
       "25%      2.000000e+01\n",
       "50%      4.000000e+01\n",
       "75%      6.500000e+01\n",
       "max      1.051200e+06\n",
       "Name: minutes, dtype: float64"
      ]
     },
     "execution_count": 12,
     "metadata": {},
     "output_type": "execute_result"
    }
   ],
   "source": [
    "# Let's check the 'minutes' column again to see if the max value makes sense\n",
    "recipes_df['minutes'].describe()"
   ]
  },
  {
   "cell_type": "code",
   "execution_count": 13,
   "id": "7895a798-be62-49a6-8440-e6adc603c6a3",
   "metadata": {},
   "outputs": [
    {
     "data": {
      "text/plain": [
       "name              2415\n",
       "id                2415\n",
       "minutes           2415\n",
       "contributor_id    2415\n",
       "submitted         2415\n",
       "tags              2415\n",
       "nutrition         2415\n",
       "n_steps           2415\n",
       "steps             2415\n",
       "description       2377\n",
       "ingredients       2415\n",
       "n_ingredients     2415\n",
       "dtype: int64"
      ]
     },
     "execution_count": 13,
     "metadata": {},
     "output_type": "execute_result"
    }
   ],
   "source": [
    "# The max is still over a million minutes, this doesn't make sense.  I will investigate that recipe as well.\n",
    "recipes_df[recipes_df['minutes'] > 800].count()"
   ]
  },
  {
   "cell_type": "code",
   "execution_count": 19,
   "id": "5934dd54-a5b9-4bbb-b87b-98d7e346591c",
   "metadata": {},
   "outputs": [
    {
     "data": {
      "text/html": [
       "<div>\n",
       "<style scoped>\n",
       "    .dataframe tbody tr th:only-of-type {\n",
       "        vertical-align: middle;\n",
       "    }\n",
       "\n",
       "    .dataframe tbody tr th {\n",
       "        vertical-align: top;\n",
       "    }\n",
       "\n",
       "    .dataframe thead th {\n",
       "        text-align: right;\n",
       "    }\n",
       "</style>\n",
       "<table border=\"1\" class=\"dataframe\">\n",
       "  <thead>\n",
       "    <tr style=\"text-align: right;\">\n",
       "      <th></th>\n",
       "      <th>name</th>\n",
       "      <th>id</th>\n",
       "      <th>minutes</th>\n",
       "      <th>contributor_id</th>\n",
       "      <th>submitted</th>\n",
       "      <th>tags</th>\n",
       "      <th>nutrition</th>\n",
       "      <th>n_steps</th>\n",
       "      <th>steps</th>\n",
       "      <th>description</th>\n",
       "      <th>ingredients</th>\n",
       "      <th>n_ingredients</th>\n",
       "    </tr>\n",
       "  </thead>\n",
       "  <tbody>\n",
       "    <tr>\n",
       "      <th>5497</th>\n",
       "      <td>angelica liqueur</td>\n",
       "      <td>70551</td>\n",
       "      <td>201610</td>\n",
       "      <td>59064</td>\n",
       "      <td>2003-09-04</td>\n",
       "      <td>['weeknight', 'time-to-make', 'course', 'cuisine', 'preparation', 'occasion', 'beverages', '1-day-or-more', 'easy', 'european', 'no-cook', 'beginner-cook', 'dinner-party', 'romantic', 'vegan', 'vegetarian', 'cocktails', 'dietary', 'gifts', 'seasonal', 'novelty', 'taste-mood', 'number-of-servings', 'presentation', 'served-cold', 'technique']</td>\n",
       "      <td>[891.8, 0.0, 906.0, 0.0, 1.0, 0.0, 76.0]</td>\n",
       "      <td>7</td>\n",
       "      <td>['crush the fennel , aniseed , coriander seeds and cloves a little and chop the angelica stems', 'put the seeds and angelica stems into a large preserving jar', 'add the sugar', 'pour on the vodka and leave by a sunny window for 2 weeks , swirling the mixture daily', 'strain through find muslin into a sterilised bottle and seal', 'leave in a dark place for at least 4 months', 'drink in small quantities with a piece of angelica in each glass']</td>\n",
       "      <td>finish off a large meal with a tiny glass of this. cook time is the maturation time.</td>\n",
       "      <td>['fennel seed', 'anise seed', 'coriander seeds', 'cloves', 'angelica', 'caster sugar', 'vodka']</td>\n",
       "      <td>7</td>\n",
       "    </tr>\n",
       "    <tr>\n",
       "      <th>6545</th>\n",
       "      <td>apple cinnamon liqueur</td>\n",
       "      <td>236379</td>\n",
       "      <td>129615</td>\n",
       "      <td>327115</td>\n",
       "      <td>2007-06-21</td>\n",
       "      <td>['time-to-make', 'course', 'preparation', 'low-protein', 'healthy', 'beverages', '1-day-or-more', 'low-fat', 'dietary', 'low-sodium', 'low-cholesterol', 'low-saturated-fat', 'low-in-something']</td>\n",
       "      <td>[4.2, 0.0, 2.0, 0.0, 0.0, 0.0, 0.0]</td>\n",
       "      <td>7</td>\n",
       "      <td>['in a quart jar , add apple , cinnamon sticks , 1 cup sugar , and vodka', 'seal jar tightly , and place in a dry , dark place for about 2 weeks', 'after two weeks , strain the liquid using a double layer of cheese cloth', 'gently squeeze the apples , getting as much juice from them as possible', 'in a fresh quart jar , add the second cup of sugar , the glycerin , water to top and the strained liquid', 'seal and store again in a dark place until sugar is dissolved', 'once the sugar has all dissolved , bottle the resulting liqueur in a fresh bottle and let age for roughly 3 months']</td>\n",
       "      <td>this is amazing.  a really nice amber color and a mellow, almost apple cider like taste.</td>\n",
       "      <td>['granny smith apple', 'cinnamon sticks', 'vodka', 'sugar', 'water', 'glycerin']</td>\n",
       "      <td>6</td>\n",
       "    </tr>\n",
       "    <tr>\n",
       "      <th>26124</th>\n",
       "      <td>blueberry liqueur</td>\n",
       "      <td>236281</td>\n",
       "      <td>129615</td>\n",
       "      <td>327115</td>\n",
       "      <td>2007-06-21</td>\n",
       "      <td>['time-to-make', 'course', 'preparation', 'low-protein', 'healthy', '5-ingredients-or-less', 'beverages', '1-day-or-more', 'easy', 'low-fat', 'dietary', 'low-sodium', 'low-cholesterol', 'low-saturated-fat', 'low-in-something']</td>\n",
       "      <td>[4.2, 0.0, 2.0, 0.0, 0.0, 0.0, 0.0]</td>\n",
       "      <td>7</td>\n",
       "      <td>['in a quart jar , blueberries , 1 cup sugar , and vodka', 'seal jar tightly , and place in a dry , dark place for about 2 weeks', 'after two weeks , strain the liquid using a double layer of cheese cloth', 'gently squeeze the blueberries , getting as much juice from them as possible', 'in a fresh quart jar , add the second cup of sugar , water to top and the strained liquid', 'seal and store again in a dark place until sugar is dissolved', 'once the sugar has all dissolved , bottle the resulting liqueur in a fresh bottle and let age for roughly 3 months']</td>\n",
       "      <td>this is an absolutely beautiful shade of purple and has a nice light blueberry taste.  great in iced tea.</td>\n",
       "      <td>['blueberries', 'vodka', 'sugar', 'water', 'glycerin']</td>\n",
       "      <td>5</td>\n",
       "    </tr>\n",
       "    <tr>\n",
       "      <th>38116</th>\n",
       "      <td>celtic druid s honey mead   meade   metheglin</td>\n",
       "      <td>216215</td>\n",
       "      <td>259260</td>\n",
       "      <td>242729</td>\n",
       "      <td>2007-03-11</td>\n",
       "      <td>['time-to-make', 'course', 'main-ingredient', 'cuisine', 'preparation', 'occasion', 'beverages', 'fruit', '1-day-or-more', 'european', 'no-cook', 'vegetarian', 'english', 'irish', 'dietary', 'gifts', 'copycat', 'welsh', 'egg-free', 'free-of-something', 'citrus', 'lemon', 'novelty', 'taste-mood', 'sweet', 'technique']</td>\n",
       "      <td>[531.0, 0.0, 561.0, 1.0, 1.0, 0.0, 47.0]</td>\n",
       "      <td>18</td>\n",
       "      <td>['equipement:', 'very large pan - to hold 12 pints', 'thermometer', '8 pint fermentation jar', 'airlock', 'bottles', 'bruise the ginger by folding it in to a clean cloth and hitting it with a hammer to release its flavour', 'tie the bruised ginger , cloves , cinnamon stick and the lemon peel in a muslin cloth and put it into a 12-pint pan', 'add the water and lemon juice and bring it to the boil', 'allow to cool to 50c / 122f', 'meanwhile , stand the honey in a warm place and allow to come to the same temperature', 'add the honey to the lemon and ginger water and mix', 'allow to cool to 21c / 70f and then remove the muslin bag with the ginger and lemon peel in it', 'crumble the yeast into the honey water and mix lightly', 'pour the liquid into an 8-pint fermentation jar , it should reach about three quarters full , and fit the airlock', 'leave until all fermentation has finished , racking if necessary', 'leave for another 1-2 weeks before bottling and storing', 'the mead can be drunk after 4-6 months , but is best if kept for several years !']</td>\n",
       "      <td>mead, made from fermented honey, was the earliest of all alcoholic beverages; the beaker people who inhabited england from 2000bc were known to have drunk it or something like it. long before the romans arrived in britain, celtic druid bards described the island, as dicovered in ancient roman texts, as \"the isle of honey\". it was orginally a drink for warriors and druidic princes &amp; priests, as well as noblemen. a chieftains’ bodyguard would fight his battles in return for drinking his mead. there are many types of mead; this method is for \"metheglin\", which means it is a \"spiced mead\". the ancient druids would not have had spices or lemons available, but nevertheless, this is based on a very ancient celtic recipe. this is an easy and delicious form of mead, but although it is ready to drink after 4-6 months, it is far superior if left for many years. the mead in my photographs was made in 2002 and bottled in 2003! please ensure if you do not make wines or liqueurs regularly, that you thoroughly sterilise everything that you use; i use \"campden tablets\".</td>\n",
       "      <td>['gingerroot', 'lemons, juice and rind of', 'whole cloves', 'cinnamon stick', 'water', 'honey', 'mead']</td>\n",
       "      <td>7</td>\n",
       "    </tr>\n",
       "    <tr>\n",
       "      <th>41471</th>\n",
       "      <td>cherry liqueur</td>\n",
       "      <td>13345</td>\n",
       "      <td>144015</td>\n",
       "      <td>21752</td>\n",
       "      <td>2001-10-28</td>\n",
       "      <td>['weeknight', 'time-to-make', 'course', 'main-ingredient', 'cuisine', 'preparation', 'occasion', 'low-protein', 'healthy', '5-ingredients-or-less', 'beverages', 'fruit', 'jewish-ashkenazi', '1-day-or-more', 'easy', 'european', 'no-cook', 'holiday-event', 'kosher', 'low-fat', 'cocktails', 'dietary', 'gifts', 'low-sodium', 'gluten-free', 'low-cholesterol', 'low-saturated-fat', 'free-of-something', 'low-in-something', 'number-of-servings', 'presentation', 'served-cold', 'technique']</td>\n",
       "      <td>[706.1, 0.0, 309.0, 0.0, 2.0, 0.0, 27.0]</td>\n",
       "      <td>19</td>\n",
       "      <td>['mix vodka , brandy and sugar in a large glass measure or medium mixing bowl', 'stir well to dissolve', 'cut each washed cherry slightly to open , leave in pits', 'place cherries in two sterile , quart wide mouth jars or one larger aging container', 'pour liquid mixture over cherries', 'stir and cap with tight lids', 'for the first two weeks , shake jars several times', 'let age in a cool , dark place for at least 3 months for best flavor', 'strain off liqueur through a wire mesh strainer and discard cherries', 'rebottle as desired', 'liqueur is ready in 3 months', 'variations:almond-cherry liqueur: for a more prominent\"almond\" flavor , pit all or part of the cherries', 'place cherry pits in a clean cloth and hit with a hammer to break them up slightly', 'put broken pits and pitted cherries in jars or large container and continue as directed', 'sugarless cherry liqueur: substitute 1 cup apple juice concentrate , undiluted , for the sugar in the cherry liqueur recipe', 'proceed as directed', 'the\"sugars\" present will be natural fruit sugars rather than the granulated processed sugars', 'taste is excellent', 'aging is the same']</td>\n",
       "      <td>my mother makes this all the time, she used to test my boyfriends' mettle by offering them some of the liqueur in a small shot glass, with a cherry on the bottom. if they survived the potency of the drink (she would really age it) then she would evilly say,</td>\n",
       "      <td>['red cherries', 'sugar', 'vodka', 'brandy']</td>\n",
       "      <td>4</td>\n",
       "    </tr>\n",
       "  </tbody>\n",
       "</table>\n",
       "</div>"
      ],
      "text/plain": [
       "                                                name      id  minutes  \\\n",
       "5497                                angelica liqueur   70551   201610   \n",
       "6545                          apple cinnamon liqueur  236379   129615   \n",
       "26124                              blueberry liqueur  236281   129615   \n",
       "38116  celtic druid s honey mead   meade   metheglin  216215   259260   \n",
       "41471                                 cherry liqueur   13345   144015   \n",
       "\n",
       "       contributor_id   submitted  \\\n",
       "5497            59064  2003-09-04   \n",
       "6545           327115  2007-06-21   \n",
       "26124          327115  2007-06-21   \n",
       "38116          242729  2007-03-11   \n",
       "41471           21752  2001-10-28   \n",
       "\n",
       "                                                                                                                                                                                                                                                                                                                                                                                                                                                                                                       tags  \\\n",
       "5497                                                                                                                                                 ['weeknight', 'time-to-make', 'course', 'cuisine', 'preparation', 'occasion', 'beverages', '1-day-or-more', 'easy', 'european', 'no-cook', 'beginner-cook', 'dinner-party', 'romantic', 'vegan', 'vegetarian', 'cocktails', 'dietary', 'gifts', 'seasonal', 'novelty', 'taste-mood', 'number-of-servings', 'presentation', 'served-cold', 'technique']   \n",
       "6545                                                                                                                                                                                                                                                                                                      ['time-to-make', 'course', 'preparation', 'low-protein', 'healthy', 'beverages', '1-day-or-more', 'low-fat', 'dietary', 'low-sodium', 'low-cholesterol', 'low-saturated-fat', 'low-in-something']   \n",
       "26124                                                                                                                                                                                                                                                                    ['time-to-make', 'course', 'preparation', 'low-protein', 'healthy', '5-ingredients-or-less', 'beverages', '1-day-or-more', 'easy', 'low-fat', 'dietary', 'low-sodium', 'low-cholesterol', 'low-saturated-fat', 'low-in-something']   \n",
       "38116                                                                                                                                                                        ['time-to-make', 'course', 'main-ingredient', 'cuisine', 'preparation', 'occasion', 'beverages', 'fruit', '1-day-or-more', 'european', 'no-cook', 'vegetarian', 'english', 'irish', 'dietary', 'gifts', 'copycat', 'welsh', 'egg-free', 'free-of-something', 'citrus', 'lemon', 'novelty', 'taste-mood', 'sweet', 'technique']   \n",
       "41471  ['weeknight', 'time-to-make', 'course', 'main-ingredient', 'cuisine', 'preparation', 'occasion', 'low-protein', 'healthy', '5-ingredients-or-less', 'beverages', 'fruit', 'jewish-ashkenazi', '1-day-or-more', 'easy', 'european', 'no-cook', 'holiday-event', 'kosher', 'low-fat', 'cocktails', 'dietary', 'gifts', 'low-sodium', 'gluten-free', 'low-cholesterol', 'low-saturated-fat', 'free-of-something', 'low-in-something', 'number-of-servings', 'presentation', 'served-cold', 'technique']   \n",
       "\n",
       "                                      nutrition  n_steps  \\\n",
       "5497   [891.8, 0.0, 906.0, 0.0, 1.0, 0.0, 76.0]        7   \n",
       "6545        [4.2, 0.0, 2.0, 0.0, 0.0, 0.0, 0.0]        7   \n",
       "26124       [4.2, 0.0, 2.0, 0.0, 0.0, 0.0, 0.0]        7   \n",
       "38116  [531.0, 0.0, 561.0, 1.0, 1.0, 0.0, 47.0]       18   \n",
       "41471  [706.1, 0.0, 309.0, 0.0, 2.0, 0.0, 27.0]       19   \n",
       "\n",
       "                                                                                                                                                                                                                                                                                                                                                                                                                                                                                                                                                                                                                                                                                                                                                                                                                                                                                                                                                                                                                                                                                                                                                                                           steps  \\\n",
       "5497                                                                                                                                                                                                                                                                                                                                                                                                                                                                                                                                                                                                                                                                                                                              ['crush the fennel , aniseed , coriander seeds and cloves a little and chop the angelica stems', 'put the seeds and angelica stems into a large preserving jar', 'add the sugar', 'pour on the vodka and leave by a sunny window for 2 weeks , swirling the mixture daily', 'strain through find muslin into a sterilised bottle and seal', 'leave in a dark place for at least 4 months', 'drink in small quantities with a piece of angelica in each glass']   \n",
       "6545                                                                                                                                                                                                                                                                                                                                                                                                                                                                                                                                                                                ['in a quart jar , add apple , cinnamon sticks , 1 cup sugar , and vodka', 'seal jar tightly , and place in a dry , dark place for about 2 weeks', 'after two weeks , strain the liquid using a double layer of cheese cloth', 'gently squeeze the apples , getting as much juice from them as possible', 'in a fresh quart jar , add the second cup of sugar , the glycerin , water to top and the strained liquid', 'seal and store again in a dark place until sugar is dissolved', 'once the sugar has all dissolved , bottle the resulting liqueur in a fresh bottle and let age for roughly 3 months']   \n",
       "26124                                                                                                                                                                                                                                                                                                                                                                                                                                                                                                                                                                                                         ['in a quart jar , blueberries , 1 cup sugar , and vodka', 'seal jar tightly , and place in a dry , dark place for about 2 weeks', 'after two weeks , strain the liquid using a double layer of cheese cloth', 'gently squeeze the blueberries , getting as much juice from them as possible', 'in a fresh quart jar , add the second cup of sugar , water to top and the strained liquid', 'seal and store again in a dark place until sugar is dissolved', 'once the sugar has all dissolved , bottle the resulting liqueur in a fresh bottle and let age for roughly 3 months']   \n",
       "38116                                                                                        ['equipement:', 'very large pan - to hold 12 pints', 'thermometer', '8 pint fermentation jar', 'airlock', 'bottles', 'bruise the ginger by folding it in to a clean cloth and hitting it with a hammer to release its flavour', 'tie the bruised ginger , cloves , cinnamon stick and the lemon peel in a muslin cloth and put it into a 12-pint pan', 'add the water and lemon juice and bring it to the boil', 'allow to cool to 50c / 122f', 'meanwhile , stand the honey in a warm place and allow to come to the same temperature', 'add the honey to the lemon and ginger water and mix', 'allow to cool to 21c / 70f and then remove the muslin bag with the ginger and lemon peel in it', 'crumble the yeast into the honey water and mix lightly', 'pour the liquid into an 8-pint fermentation jar , it should reach about three quarters full , and fit the airlock', 'leave until all fermentation has finished , racking if necessary', 'leave for another 1-2 weeks before bottling and storing', 'the mead can be drunk after 4-6 months , but is best if kept for several years !']   \n",
       "41471  ['mix vodka , brandy and sugar in a large glass measure or medium mixing bowl', 'stir well to dissolve', 'cut each washed cherry slightly to open , leave in pits', 'place cherries in two sterile , quart wide mouth jars or one larger aging container', 'pour liquid mixture over cherries', 'stir and cap with tight lids', 'for the first two weeks , shake jars several times', 'let age in a cool , dark place for at least 3 months for best flavor', 'strain off liqueur through a wire mesh strainer and discard cherries', 'rebottle as desired', 'liqueur is ready in 3 months', 'variations:almond-cherry liqueur: for a more prominent\"almond\" flavor , pit all or part of the cherries', 'place cherry pits in a clean cloth and hit with a hammer to break them up slightly', 'put broken pits and pitted cherries in jars or large container and continue as directed', 'sugarless cherry liqueur: substitute 1 cup apple juice concentrate , undiluted , for the sugar in the cherry liqueur recipe', 'proceed as directed', 'the\"sugars\" present will be natural fruit sugars rather than the granulated processed sugars', 'taste is excellent', 'aging is the same']   \n",
       "\n",
       "                                                                                                                                                                                                                                                                                                                                                                                                                                                                                                                                                                                                                                                                                                                                                                                                                                                                                                                                                                                                                                                                                                         description  \\\n",
       "5497                                                                                                                                                                                                                                                                                                                                                                                                                                                                                                                                                                                                                                                                                                                                                                                                                                                                                                                                                                                                                            finish off a large meal with a tiny glass of this. cook time is the maturation time.   \n",
       "6545                                                                                                                                                                                                                                                                                                                                                                                                                                                                                                                                                                                                                                                                                                                                                                                                                                                                                                                                                                                                                        this is amazing.  a really nice amber color and a mellow, almost apple cider like taste.   \n",
       "26124                                                                                                                                                                                                                                                                                                                                                                                                                                                                                                                                                                                                                                                                                                                                                                                                                                                                                                                                                                                                      this is an absolutely beautiful shade of purple and has a nice light blueberry taste.  great in iced tea.   \n",
       "38116  mead, made from fermented honey, was the earliest of all alcoholic beverages; the beaker people who inhabited england from 2000bc were known to have drunk it or something like it. long before the romans arrived in britain, celtic druid bards described the island, as dicovered in ancient roman texts, as \"the isle of honey\". it was orginally a drink for warriors and druidic princes & priests, as well as noblemen. a chieftains’ bodyguard would fight his battles in return for drinking his mead. there are many types of mead; this method is for \"metheglin\", which means it is a \"spiced mead\". the ancient druids would not have had spices or lemons available, but nevertheless, this is based on a very ancient celtic recipe. this is an easy and delicious form of mead, but although it is ready to drink after 4-6 months, it is far superior if left for many years. the mead in my photographs was made in 2002 and bottled in 2003! please ensure if you do not make wines or liqueurs regularly, that you thoroughly sterilise everything that you use; i use \"campden tablets\".   \n",
       "41471                                                                                                                                                                                                                                                                                                                                                                                                                                                                                                                                                                                                                                                                                                                                                                                                                                             my mother makes this all the time, she used to test my boyfriends' mettle by offering them some of the liqueur in a small shot glass, with a cherry on the bottom. if they survived the potency of the drink (she would really age it) then she would evilly say,    \n",
       "\n",
       "                                                                                                   ingredients  \\\n",
       "5497           ['fennel seed', 'anise seed', 'coriander seeds', 'cloves', 'angelica', 'caster sugar', 'vodka']   \n",
       "6545                          ['granny smith apple', 'cinnamon sticks', 'vodka', 'sugar', 'water', 'glycerin']   \n",
       "26124                                                   ['blueberries', 'vodka', 'sugar', 'water', 'glycerin']   \n",
       "38116  ['gingerroot', 'lemons, juice and rind of', 'whole cloves', 'cinnamon stick', 'water', 'honey', 'mead']   \n",
       "41471                                                             ['red cherries', 'sugar', 'vodka', 'brandy']   \n",
       "\n",
       "       n_ingredients  \n",
       "5497               7  \n",
       "6545               6  \n",
       "26124              5  \n",
       "38116              7  \n",
       "41471              4  "
      ]
     },
     "execution_count": 19,
     "metadata": {},
     "output_type": "execute_result"
    }
   ],
   "source": [
    "pd.set_option('display.max_colwidth', None)\n",
    "recipes_df[recipes_df['minutes'] > 100000].head()"
   ]
  },
  {
   "cell_type": "markdown",
   "id": "355565d4-1ca1-47a9-ad8f-1b7bab83093e",
   "metadata": {},
   "source": [
    ">There are over 2000 recipes whose prep time takes over 800 minutes.  Looking at recipes that take over 100,000 minutes and reading through some of their descriptions above, it seems like the minutes are actually accurate.  A lot of these recipes require extended waiting times, especially for liquor recipes.  I will keep these in the data set.  It would be nice to parse out minutes between \"active time\" and \"idle time\" but don't think that it's worth it at this point in time.  I will keep note of this as we go through the analysis."
   ]
  },
  {
   "cell_type": "code",
   "execution_count": 14,
   "id": "3cdba3be-f428-45a9-b29d-b87c0dc3268d",
   "metadata": {},
   "outputs": [
    {
     "data": {
      "image/png": "[encoded data removed]",
      "text/plain": [
       "<Figure size 640x480 with 1 Axes>"
      ]
     },
     "metadata": {},
     "output_type": "display_data"
    }
   ],
   "source": [
    "# Let's make a histogram of the number of minutes it takes for each recipe.\n",
    "# Since this is a large dataset, I'll use numpy to bin the data and plot from a numpy array\n",
    "\n",
    "minutes = recipes_df[recipes_df['minutes']<=150]['minutes'].values\n",
    "bins = np.linspace(np.min(minutes), np.max(minutes), 15)\n",
    "_ = sns.histplot(minutes, bins=bins, stat = 'percent')\n",
    "plt.title('Percentage of recipes by estimated preparation time (minutes)\\nNote: Excludes recipes with prep time >150 min')\n",
    "plt.ylabel('Percentage of Recipes')\n",
    "plt.xlabel('Estimated Preparation Time')\n",
    "plt.show()"
   ]
  },
  {
   "cell_type": "code",
   "execution_count": 35,
   "id": "59a8ca0c-b3c0-4405-9402-5b2eed5cd093",
   "metadata": {},
   "outputs": [
    {
     "data": {
      "text/plain": [
       "145"
      ]
     },
     "execution_count": 35,
     "metadata": {},
     "output_type": "execute_result"
    }
   ],
   "source": [
    "# Let's look at the n_steps column now and assess whether the max needs to be corrected\n",
    "pd.set_option('display.max_colwidth', None)\n",
    "\n",
    "# Find the index of the df with the recipe that has the most steps\n",
    "max_steps_index = recipes_df[recipes_df['n_steps'] == max(recipes_df['n_steps'])].index[0]\n",
    "\n",
    "# Since the steps are contained in a string, but the string is in a list format, we can use literal_eval to convert it to a list\n",
    "# I'll look at the length of the list to make sure the number of steps is accurate\n",
    "import ast\n",
    "list = ast.literal_eval(recipes_df.loc[max_steps_index,'steps'])\n",
    "len(list)"
   ]
  },
  {
   "cell_type": "markdown",
   "id": "92fa3500-f2d3-4fa1-85e6-bd6cfde8c751",
   "metadata": {},
   "source": [
    ">The number of steps is accurate for this case and it seems to be a true outlier.  Looking at the steps column, the written steps make sense...this is truly a lengthy recipe."
   ]
  },
  {
   "cell_type": "code",
   "execution_count": 37,
   "id": "714a12a2-555a-4d12-a10b-7becb266b002",
   "metadata": {},
   "outputs": [
    {
     "data": {
      "text/html": [
       "<div>\n",
       "<style scoped>\n",
       "    .dataframe tbody tr th:only-of-type {\n",
       "        vertical-align: middle;\n",
       "    }\n",
       "\n",
       "    .dataframe tbody tr th {\n",
       "        vertical-align: top;\n",
       "    }\n",
       "\n",
       "    .dataframe thead th {\n",
       "        text-align: right;\n",
       "    }\n",
       "</style>\n",
       "<table border=\"1\" class=\"dataframe\">\n",
       "  <thead>\n",
       "    <tr style=\"text-align: right;\">\n",
       "      <th></th>\n",
       "      <th>name</th>\n",
       "      <th>id</th>\n",
       "      <th>minutes</th>\n",
       "      <th>contributor_id</th>\n",
       "      <th>submitted</th>\n",
       "      <th>tags</th>\n",
       "      <th>nutrition</th>\n",
       "      <th>n_steps</th>\n",
       "      <th>steps</th>\n",
       "      <th>description</th>\n",
       "      <th>ingredients</th>\n",
       "      <th>n_ingredients</th>\n",
       "    </tr>\n",
       "  </thead>\n",
       "  <tbody>\n",
       "    <tr>\n",
       "      <th>3381</th>\n",
       "      <td>all season bread</td>\n",
       "      <td>176767</td>\n",
       "      <td>90</td>\n",
       "      <td>331268</td>\n",
       "      <td>2006-07-10</td>\n",
       "      <td>['time-to-make', 'course', 'main-ingredient', 'cuisine', 'preparation', 'occasion', 'north-american', 'for-large-groups', 'breads', 'fruit', 'vegetables', 'easy', 'fall', 'spring', 'winter', 'muffins', 'coffee-cakes', 'seasonal', 'comfort-food', 'inexpensive', 'quick-breads', 'tropical-fruit', 'bananas', 'carrots', 'taste-mood', 'number-of-servings', '3-steps-or-less', '4-hours-or-less']</td>\n",
       "      <td>[198.8, 11.0, 70.0, 18.0, 5.0, 5.0, 10.0]</td>\n",
       "      <td>0</td>\n",
       "      <td>[]</td>\n",
       "      <td>just change the fruit/vegetable in this recipe and make the (tender, moist, heavy dark) bread your heart desires!  try zucchini in the summer, pumpkin in the fall,  carrot-raisin in the winter, &amp; banana-walnut in the spring. \\r\\n\\r\\nuse your imagination.</td>\n",
       "      <td>['flour', 'baking soda', 'salt', 'baking powder', 'cinnamon', 'eggs', 'white sugar', 'vegetable oil', 'real vanilla', 'raw carrots', 'raisins', 'walnuts']</td>\n",
       "      <td>12</td>\n",
       "    </tr>\n",
       "  </tbody>\n",
       "</table>\n",
       "</div>"
      ],
      "text/plain": [
       "                  name      id  minutes  contributor_id   submitted  \\\n",
       "3381  all season bread  176767       90          331268  2006-07-10   \n",
       "\n",
       "                                                                                                                                                                                                                                                                                                                                                                                                        tags  \\\n",
       "3381  ['time-to-make', 'course', 'main-ingredient', 'cuisine', 'preparation', 'occasion', 'north-american', 'for-large-groups', 'breads', 'fruit', 'vegetables', 'easy', 'fall', 'spring', 'winter', 'muffins', 'coffee-cakes', 'seasonal', 'comfort-food', 'inexpensive', 'quick-breads', 'tropical-fruit', 'bananas', 'carrots', 'taste-mood', 'number-of-servings', '3-steps-or-less', '4-hours-or-less']   \n",
       "\n",
       "                                      nutrition  n_steps steps  \\\n",
       "3381  [198.8, 11.0, 70.0, 18.0, 5.0, 5.0, 10.0]        0    []   \n",
       "\n",
       "                                                                                                                                                                                                                                                         description  \\\n",
       "3381  just change the fruit/vegetable in this recipe and make the (tender, moist, heavy dark) bread your heart desires!  try zucchini in the summer, pumpkin in the fall,  carrot-raisin in the winter, & banana-walnut in the spring. \\r\\n\\r\\nuse your imagination.   \n",
       "\n",
       "                                                                                                                                                     ingredients  \\\n",
       "3381  ['flour', 'baking soda', 'salt', 'baking powder', 'cinnamon', 'eggs', 'white sugar', 'vegetable oil', 'real vanilla', 'raw carrots', 'raisins', 'walnuts']   \n",
       "\n",
       "      n_ingredients  \n",
       "3381             12  "
      ]
     },
     "execution_count": 37,
     "metadata": {},
     "output_type": "execute_result"
    }
   ],
   "source": [
    "# Let's look at the recipes for which n_steps == 0\n",
    "\n",
    "recipes_df[recipes_df['n_steps'] == 0]"
   ]
  },
  {
   "cell_type": "markdown",
   "id": "c32d3fad-f115-48af-90e7-ccb3a2089f11",
   "metadata": {},
   "source": [
    ">There is only one recipe or which there is 0 steps.  It is a bread recipe.  Lets look to see if we can find a similar bread recipe within the dataframe and that may inform how many steps this recipe should have."
   ]
  },
  {
   "cell_type": "code",
   "execution_count": 48,
   "id": "6efb3a86-6746-491f-beb9-73847a71e906",
   "metadata": {},
   "outputs": [
    {
     "name": "stdout",
     "output_type": "stream",
     "text": [
      "Number of bread recipes: 8552\n",
      "Average number of steps for bread recipes: 11\n"
     ]
    },
    {
     "data": {
      "text/plain": [
       "name                                               all season bread\n",
       "id                                                           176767\n",
       "minutes                                                          90\n",
       "contributor_id                                               331268\n",
       "submitted                                                2006-07-10\n",
       "tags              ['time-to-make', 'course', 'main-ingredient', ...\n",
       "nutrition                 [198.8, 11.0, 70.0, 18.0, 5.0, 5.0, 10.0]\n",
       "n_steps                                                          11\n",
       "steps                                                            []\n",
       "description       just change the fruit/vegetable in this recipe...\n",
       "ingredients       ['flour', 'baking soda', 'salt', 'baking powde...\n",
       "n_ingredients                                                    12\n",
       "Name: 3381, dtype: object"
      ]
     },
     "execution_count": 48,
     "metadata": {},
     "output_type": "execute_result"
    }
   ],
   "source": [
    "# Let's find other bread recipes in the df\n",
    "print(f\"Number of bread recipes: {recipes_df[recipes_df['name'].str.contains('bread')]['name'].count()}\")\n",
    "bread_recipes = recipes_df[recipes_df['name'].str.contains('bread')]\n",
    "\n",
    "# It looks like there are over 8500 bread recipes.  Let's look at the average number of steps for these recipes\n",
    "print(f\"Average number of steps for bread recipes: {bread_recipes['n_steps'].mean():.0f}\")\n",
    "\n",
    "# On average there are 11 steps for a bread recipe.  Let's impute the missing value with the average.\n",
    "pd.reset_option('display.max_colwidth')\n",
    "recipes_df.loc[3381,'n_steps'] = 11\n",
    "recipes_df.loc[3381]"
   ]
  },
  {
   "cell_type": "code",
   "execution_count": 61,
   "id": "ef459bc5-6584-4b26-afc2-12af6165794b",
   "metadata": {},
   "outputs": [
    {
     "data": {
      "image/png": "[encoded data removed]",
      "text/plain": [
       "<Figure size 640x480 with 1 Axes>"
      ]
     },
     "metadata": {},
     "output_type": "display_data"
    }
   ],
   "source": [
    "# Now that the max is verified and the missing values fixed, let's look at a histogram of the n_steps feature\n",
    "\n",
    "n_steps = recipes_df[recipes_df['n_steps'] <= 40]['n_steps'].values\n",
    "bins = np.linspace(np.min(n_steps), np.max(n_steps), 20)\n",
    "_ = sns.histplot(n_steps, bins = bins)\n",
    "plt.title('Count of recipes by number of steps\\nNote: Excludes recipes with >40 steps')\n",
    "plt.xlabel('Number of steps')\n",
    "plt.ylabel('Count of recipes')\n",
    "plt.show()"
   ]
  },
  {
   "cell_type": "code",
   "execution_count": 66,
   "id": "e540242a-4c69-4d38-9aca-0ae5660eeef5",
   "metadata": {},
   "outputs": [
    {
     "data": {
      "image/png": "[encoded data removed]",
      "text/plain": [
       "<Figure size 640x480 with 1 Axes>"
      ]
     },
     "metadata": {},
     "output_type": "display_data"
    }
   ],
   "source": [
    "# Lastly, let's look at a histogram of the number of ingredients\n",
    "\n",
    "n_ingredients = recipes_df[recipes_df['n_ingredients']<=25]['n_ingredients'].values\n",
    "bins = np.linspace(np.min(n_ingredients), np.max(n_ingredients), 25)\n",
    "_ = sns.histplot(n_ingredients, bins = bins)\n",
    "plt.title('Count of recipes by number of ingredients\\nNote: excludes recipes with >25 ingredients')\n",
    "plt.xlabel('Number of Ingredients')\n",
    "plt.ylabel('Count of recipes')\n",
    "plt.show()"
   ]
  },
  {
   "cell_type": "markdown",
   "id": "afdfcf55-4493-41cf-b61c-8e8a71340384",
   "metadata": {},
   "source": [
    "### EDA for interactions_df"
   ]
  },
  {
   "cell_type": "code",
   "execution_count": 74,
   "id": "fe395579-862b-4e5c-ba7f-6f29d204f8cc",
   "metadata": {},
   "outputs": [
    {
     "data": {
      "text/html": [
       "<div>\n",
       "<style scoped>\n",
       "    .dataframe tbody tr th:only-of-type {\n",
       "        vertical-align: middle;\n",
       "    }\n",
       "\n",
       "    .dataframe tbody tr th {\n",
       "        vertical-align: top;\n",
       "    }\n",
       "\n",
       "    .dataframe thead th {\n",
       "        text-align: right;\n",
       "    }\n",
       "</style>\n",
       "<table border=\"1\" class=\"dataframe\">\n",
       "  <thead>\n",
       "    <tr style=\"text-align: right;\">\n",
       "      <th></th>\n",
       "      <th>count</th>\n",
       "      <th>mean</th>\n",
       "      <th>std</th>\n",
       "      <th>min</th>\n",
       "      <th>25%</th>\n",
       "      <th>50%</th>\n",
       "      <th>75%</th>\n",
       "      <th>max</th>\n",
       "    </tr>\n",
       "  </thead>\n",
       "  <tbody>\n",
       "    <tr>\n",
       "      <th>user_id</th>\n",
       "      <td>1132367.0</td>\n",
       "      <td>1.384291e+08</td>\n",
       "      <td>5.014269e+08</td>\n",
       "      <td>1533.0</td>\n",
       "      <td>135470.0</td>\n",
       "      <td>330937.0</td>\n",
       "      <td>804550.0</td>\n",
       "      <td>2.002373e+09</td>\n",
       "    </tr>\n",
       "    <tr>\n",
       "      <th>recipe_id</th>\n",
       "      <td>1132367.0</td>\n",
       "      <td>1.608972e+05</td>\n",
       "      <td>1.303987e+05</td>\n",
       "      <td>38.0</td>\n",
       "      <td>54257.0</td>\n",
       "      <td>120547.0</td>\n",
       "      <td>243852.0</td>\n",
       "      <td>5.377160e+05</td>\n",
       "    </tr>\n",
       "    <tr>\n",
       "      <th>rating</th>\n",
       "      <td>1132367.0</td>\n",
       "      <td>4.411016e+00</td>\n",
       "      <td>1.264752e+00</td>\n",
       "      <td>0.0</td>\n",
       "      <td>4.0</td>\n",
       "      <td>5.0</td>\n",
       "      <td>5.0</td>\n",
       "      <td>5.000000e+00</td>\n",
       "    </tr>\n",
       "  </tbody>\n",
       "</table>\n",
       "</div>"
      ],
      "text/plain": [
       "               count          mean           std     min       25%       50%  \\\n",
       "user_id    1132367.0  1.384291e+08  5.014269e+08  1533.0  135470.0  330937.0   \n",
       "recipe_id  1132367.0  1.608972e+05  1.303987e+05    38.0   54257.0  120547.0   \n",
       "rating     1132367.0  4.411016e+00  1.264752e+00     0.0       4.0       5.0   \n",
       "\n",
       "                75%           max  \n",
       "user_id    804550.0  2.002373e+09  \n",
       "recipe_id  243852.0  5.377160e+05  \n",
       "rating          5.0  5.000000e+00  "
      ]
     },
     "execution_count": 74,
     "metadata": {},
     "output_type": "execute_result"
    }
   ],
   "source": [
    "# Let's look at the summary stats for the numeric columns:\n",
    "interactions_df.describe().T"
   ]
  },
  {
   "cell_type": "code",
   "execution_count": 71,
   "id": "6cbfa4aa-83e3-4154-a2d8-09567bcd182f",
   "metadata": {},
   "outputs": [
    {
     "data": {
      "image/png": "[encoded data removed]",
      "text/plain": [
       "<Figure size 640x480 with 1 Axes>"
      ]
     },
     "metadata": {},
     "output_type": "display_data"
    }
   ],
   "source": [
    "# Let's look at the distribution of ratings:\n",
    "_ = sns.histplot(interactions_df['rating'], bins = 5, stat = 'percent', discrete = True)\n",
    "plt.title('Percent of total ratings for each rating value')\n",
    "plt.xlabel('Rating')\n",
    "plt.ylabel('Percent of total ratings')\n",
    "plt.show()"
   ]
  },
  {
   "cell_type": "markdown",
   "id": "4cc9fc37-fbca-435d-8bfe-b35c2450c904",
   "metadata": {},
   "source": [
    ">Interesting - over 70% of the ratings are a 5."
   ]
  },
  {
   "cell_type": "markdown",
   "id": "3b4a75ea-dac6-4e7c-8342-d1ef75df928c",
   "metadata": {},
   "source": [
    "Let's create a new feature to show how many reviews each recipe has."
   ]
  },
  {
   "cell_type": "code",
   "execution_count": 75,
   "id": "5c4172af-2d49-4476-8fbe-57900e7d8bf3",
   "metadata": {},
   "outputs": [
    {
     "data": {
      "text/html": [
       "<div>\n",
       "<style scoped>\n",
       "    .dataframe tbody tr th:only-of-type {\n",
       "        vertical-align: middle;\n",
       "    }\n",
       "\n",
       "    .dataframe tbody tr th {\n",
       "        vertical-align: top;\n",
       "    }\n",
       "\n",
       "    .dataframe thead th {\n",
       "        text-align: right;\n",
       "    }\n",
       "</style>\n",
       "<table border=\"1\" class=\"dataframe\">\n",
       "  <thead>\n",
       "    <tr style=\"text-align: right;\">\n",
       "      <th></th>\n",
       "      <th>user_id</th>\n",
       "      <th>recipe_id</th>\n",
       "      <th>date</th>\n",
       "      <th>rating</th>\n",
       "      <th>review</th>\n",
       "    </tr>\n",
       "  </thead>\n",
       "  <tbody>\n",
       "    <tr>\n",
       "      <th>0</th>\n",
       "      <td>38094</td>\n",
       "      <td>40893</td>\n",
       "      <td>2003-02-17</td>\n",
       "      <td>4</td>\n",
       "      <td>Great with a salad. Cooked on top of stove for...</td>\n",
       "    </tr>\n",
       "    <tr>\n",
       "      <th>1</th>\n",
       "      <td>1293707</td>\n",
       "      <td>40893</td>\n",
       "      <td>2011-12-21</td>\n",
       "      <td>5</td>\n",
       "      <td>So simple, so delicious! Great for chilly fall...</td>\n",
       "    </tr>\n",
       "    <tr>\n",
       "      <th>2</th>\n",
       "      <td>8937</td>\n",
       "      <td>44394</td>\n",
       "      <td>2002-12-01</td>\n",
       "      <td>4</td>\n",
       "      <td>This worked very well and is EASY.  I used not...</td>\n",
       "    </tr>\n",
       "    <tr>\n",
       "      <th>3</th>\n",
       "      <td>126440</td>\n",
       "      <td>85009</td>\n",
       "      <td>2010-02-27</td>\n",
       "      <td>5</td>\n",
       "      <td>I made the Mexican topping and took it to bunk...</td>\n",
       "    </tr>\n",
       "    <tr>\n",
       "      <th>4</th>\n",
       "      <td>57222</td>\n",
       "      <td>85009</td>\n",
       "      <td>2011-10-01</td>\n",
       "      <td>5</td>\n",
       "      <td>Made the cheddar bacon topping, adding a sprin...</td>\n",
       "    </tr>\n",
       "  </tbody>\n",
       "</table>\n",
       "</div>"
      ],
      "text/plain": [
       "   user_id  recipe_id        date  rating  \\\n",
       "0    38094      40893  2003-02-17       4   \n",
       "1  1293707      40893  2011-12-21       5   \n",
       "2     8937      44394  2002-12-01       4   \n",
       "3   126440      85009  2010-02-27       5   \n",
       "4    57222      85009  2011-10-01       5   \n",
       "\n",
       "                                              review  \n",
       "0  Great with a salad. Cooked on top of stove for...  \n",
       "1  So simple, so delicious! Great for chilly fall...  \n",
       "2  This worked very well and is EASY.  I used not...  \n",
       "3  I made the Mexican topping and took it to bunk...  \n",
       "4  Made the cheddar bacon topping, adding a sprin...  "
      ]
     },
     "execution_count": 75,
     "metadata": {},
     "output_type": "execute_result"
    }
   ],
   "source": [
    "interactions_df.head()"
   ]
  },
  {
   "cell_type": "code",
   "execution_count": 78,
   "id": "eca22a49-97a9-4f13-92d3-e0de5aa8999f",
   "metadata": {},
   "outputs": [
    {
     "data": {
      "text/html": [
       "<div>\n",
       "<style scoped>\n",
       "    .dataframe tbody tr th:only-of-type {\n",
       "        vertical-align: middle;\n",
       "    }\n",
       "\n",
       "    .dataframe tbody tr th {\n",
       "        vertical-align: top;\n",
       "    }\n",
       "\n",
       "    .dataframe thead th {\n",
       "        text-align: right;\n",
       "    }\n",
       "</style>\n",
       "<table border=\"1\" class=\"dataframe\">\n",
       "  <thead>\n",
       "    <tr style=\"text-align: right;\">\n",
       "      <th></th>\n",
       "      <th>name</th>\n",
       "      <th>id</th>\n",
       "      <th>minutes</th>\n",
       "      <th>contributor_id</th>\n",
       "      <th>submitted</th>\n",
       "      <th>tags</th>\n",
       "      <th>nutrition</th>\n",
       "      <th>n_steps</th>\n",
       "      <th>steps</th>\n",
       "      <th>description</th>\n",
       "      <th>ingredients</th>\n",
       "      <th>n_ingredients</th>\n",
       "    </tr>\n",
       "  </thead>\n",
       "  <tbody>\n",
       "    <tr>\n",
       "      <th>0</th>\n",
       "      <td>arriba   baked winter squash mexican style</td>\n",
       "      <td>137739</td>\n",
       "      <td>55</td>\n",
       "      <td>47892</td>\n",
       "      <td>2005-09-16</td>\n",
       "      <td>['60-minutes-or-less', 'time-to-make', 'course...</td>\n",
       "      <td>[51.5, 0.0, 13.0, 0.0, 2.0, 0.0, 4.0]</td>\n",
       "      <td>11</td>\n",
       "      <td>['make a choice and proceed with recipe', 'dep...</td>\n",
       "      <td>autumn is my favorite time of year to cook! th...</td>\n",
       "      <td>['winter squash', 'mexican seasoning', 'mixed ...</td>\n",
       "      <td>7</td>\n",
       "    </tr>\n",
       "    <tr>\n",
       "      <th>1</th>\n",
       "      <td>a bit different  breakfast pizza</td>\n",
       "      <td>31490</td>\n",
       "      <td>30</td>\n",
       "      <td>26278</td>\n",
       "      <td>2002-06-17</td>\n",
       "      <td>['30-minutes-or-less', 'time-to-make', 'course...</td>\n",
       "      <td>[173.4, 18.0, 0.0, 17.0, 22.0, 35.0, 1.0]</td>\n",
       "      <td>9</td>\n",
       "      <td>['preheat oven to 425 degrees f', 'press dough...</td>\n",
       "      <td>this recipe calls for the crust to be prebaked...</td>\n",
       "      <td>['prepared pizza crust', 'sausage patty', 'egg...</td>\n",
       "      <td>6</td>\n",
       "    </tr>\n",
       "    <tr>\n",
       "      <th>2</th>\n",
       "      <td>all in the kitchen  chili</td>\n",
       "      <td>112140</td>\n",
       "      <td>130</td>\n",
       "      <td>196586</td>\n",
       "      <td>2005-02-25</td>\n",
       "      <td>['time-to-make', 'course', 'preparation', 'mai...</td>\n",
       "      <td>[269.8, 22.0, 32.0, 48.0, 39.0, 27.0, 5.0]</td>\n",
       "      <td>6</td>\n",
       "      <td>['brown ground beef in large pot', 'add choppe...</td>\n",
       "      <td>this modified version of 'mom's' chili was a h...</td>\n",
       "      <td>['ground beef', 'yellow onions', 'diced tomato...</td>\n",
       "      <td>13</td>\n",
       "    </tr>\n",
       "  </tbody>\n",
       "</table>\n",
       "</div>"
      ],
      "text/plain": [
       "                                         name      id  minutes  \\\n",
       "0  arriba   baked winter squash mexican style  137739       55   \n",
       "1            a bit different  breakfast pizza   31490       30   \n",
       "2                   all in the kitchen  chili  112140      130   \n",
       "\n",
       "   contributor_id   submitted  \\\n",
       "0           47892  2005-09-16   \n",
       "1           26278  2002-06-17   \n",
       "2          196586  2005-02-25   \n",
       "\n",
       "                                                tags  \\\n",
       "0  ['60-minutes-or-less', 'time-to-make', 'course...   \n",
       "1  ['30-minutes-or-less', 'time-to-make', 'course...   \n",
       "2  ['time-to-make', 'course', 'preparation', 'mai...   \n",
       "\n",
       "                                    nutrition  n_steps  \\\n",
       "0       [51.5, 0.0, 13.0, 0.0, 2.0, 0.0, 4.0]       11   \n",
       "1   [173.4, 18.0, 0.0, 17.0, 22.0, 35.0, 1.0]        9   \n",
       "2  [269.8, 22.0, 32.0, 48.0, 39.0, 27.0, 5.0]        6   \n",
       "\n",
       "                                               steps  \\\n",
       "0  ['make a choice and proceed with recipe', 'dep...   \n",
       "1  ['preheat oven to 425 degrees f', 'press dough...   \n",
       "2  ['brown ground beef in large pot', 'add choppe...   \n",
       "\n",
       "                                         description  \\\n",
       "0  autumn is my favorite time of year to cook! th...   \n",
       "1  this recipe calls for the crust to be prebaked...   \n",
       "2  this modified version of 'mom's' chili was a h...   \n",
       "\n",
       "                                         ingredients  n_ingredients  \n",
       "0  ['winter squash', 'mexican seasoning', 'mixed ...              7  \n",
       "1  ['prepared pizza crust', 'sausage patty', 'egg...              6  \n",
       "2  ['ground beef', 'yellow onions', 'diced tomato...             13  "
      ]
     },
     "execution_count": 78,
     "metadata": {},
     "output_type": "execute_result"
    }
   ],
   "source": [
    "recipes_df.head(3)"
   ]
  },
  {
   "cell_type": "code",
   "execution_count": 94,
   "id": "320f33a5-38c7-430f-9507-70113d6bd175",
   "metadata": {},
   "outputs": [
    {
     "data": {
      "image/png": "[encoded data removed]",
      "text/plain": [
       "<Figure size 640x480 with 1 Axes>"
      ]
     },
     "metadata": {},
     "output_type": "display_data"
    }
   ],
   "source": [
    "# We'll add a new column to the recipes_df showing number of reviews for each recipe\n",
    "recipes_df_with_n_reviews = recipes_df.merge(interactions_df['recipe_id'].value_counts(), how = 'left', left_on= 'id', right_on='recipe_id')\n",
    "recipes_df_with_n_reviews.rename(columns={'count':'n_reviews'}, inplace=True)\n",
    "\n",
    "# Let's look at the distribution of n_reviews\n",
    "n_reviews = recipes_df_with_n_reviews[recipes_df_with_n_reviews['n_reviews']<50]['n_reviews'].values\n",
    "bins = np.linspace(np.min(n_reviews), np.max(n_reviews), 50)\n",
    "_ = sns.histplot(n_reviews, bins = bins)\n",
    "plt.title('Count of recipes by number of associated user reviews')\n",
    "plt.xlabel('Number of user reviews')\n",
    "plt.ylabel('Count of recipes')\n",
    "plt.show()"
   ]
  },
  {
   "cell_type": "code",
   "execution_count": 97,
   "id": "ffa86a7d-d9cd-4ce9-9447-c84ac69a6244",
   "metadata": {},
   "outputs": [
    {
     "data": {
      "image/png": "[encoded data removed]",
      "text/plain": [
       "<Figure size 640x480 with 1 Axes>"
      ]
     },
     "metadata": {},
     "output_type": "display_data"
    }
   ],
   "source": [
    "# Let's create a boxplot to visualize how many outliers there are\n",
    "n_reviews = recipes_df_with_n_reviews['n_reviews'].values\n",
    "_ = sns.boxplot(n_reviews)\n",
    "plt.title('Boxplot of number of user reviews per recipe')\n",
    "plt.ylabel('Number of user reviews per recipe')\n",
    "plt.show()"
   ]
  },
  {
   "cell_type": "markdown",
   "id": "52a36e09-1444-4b27-ae1a-c94b050fc5ef",
   "metadata": {},
   "source": [
    ">The vast majority of the recipes only contain less than 5 reviews.  There are a significant number of outliers. The max number of reviews for a recipe is over 1600."
   ]
  },
  {
   "cell_type": "code",
   "execution_count": 145,
   "id": "c1909d35-4faa-410f-8473-81351e0a4b13",
   "metadata": {},
   "outputs": [
    {
     "data": {
      "text/html": [
       "<div>\n",
       "<style scoped>\n",
       "    .dataframe tbody tr th:only-of-type {\n",
       "        vertical-align: middle;\n",
       "    }\n",
       "\n",
       "    .dataframe tbody tr th {\n",
       "        vertical-align: top;\n",
       "    }\n",
       "\n",
       "    .dataframe thead th {\n",
       "        text-align: right;\n",
       "    }\n",
       "</style>\n",
       "<table border=\"1\" class=\"dataframe\">\n",
       "  <thead>\n",
       "    <tr style=\"text-align: right;\">\n",
       "      <th></th>\n",
       "      <th>name</th>\n",
       "      <th>id</th>\n",
       "      <th>minutes</th>\n",
       "      <th>contributor_id</th>\n",
       "      <th>submitted</th>\n",
       "      <th>tags</th>\n",
       "      <th>nutrition</th>\n",
       "      <th>n_steps</th>\n",
       "      <th>steps</th>\n",
       "      <th>description</th>\n",
       "      <th>ingredients</th>\n",
       "      <th>n_ingredients</th>\n",
       "      <th>n_reviews</th>\n",
       "      <th>avg_rating</th>\n",
       "    </tr>\n",
       "  </thead>\n",
       "  <tbody>\n",
       "    <tr>\n",
       "      <th>0</th>\n",
       "      <td>arriba   baked winter squash mexican style</td>\n",
       "      <td>137739</td>\n",
       "      <td>55</td>\n",
       "      <td>47892</td>\n",
       "      <td>2005-09-16</td>\n",
       "      <td>['60-minutes-or-less', 'time-to-make', 'course...</td>\n",
       "      <td>[51.5, 0.0, 13.0, 0.0, 2.0, 0.0, 4.0]</td>\n",
       "      <td>11</td>\n",
       "      <td>['make a choice and proceed with recipe', 'dep...</td>\n",
       "      <td>autumn is my favorite time of year to cook! th...</td>\n",
       "      <td>['winter squash', 'mexican seasoning', 'mixed ...</td>\n",
       "      <td>7</td>\n",
       "      <td>3</td>\n",
       "      <td>5.0</td>\n",
       "    </tr>\n",
       "    <tr>\n",
       "      <th>1</th>\n",
       "      <td>a bit different  breakfast pizza</td>\n",
       "      <td>31490</td>\n",
       "      <td>30</td>\n",
       "      <td>26278</td>\n",
       "      <td>2002-06-17</td>\n",
       "      <td>['30-minutes-or-less', 'time-to-make', 'course...</td>\n",
       "      <td>[173.4, 18.0, 0.0, 17.0, 22.0, 35.0, 1.0]</td>\n",
       "      <td>9</td>\n",
       "      <td>['preheat oven to 425 degrees f', 'press dough...</td>\n",
       "      <td>this recipe calls for the crust to be prebaked...</td>\n",
       "      <td>['prepared pizza crust', 'sausage patty', 'egg...</td>\n",
       "      <td>6</td>\n",
       "      <td>4</td>\n",
       "      <td>3.5</td>\n",
       "    </tr>\n",
       "    <tr>\n",
       "      <th>2</th>\n",
       "      <td>all in the kitchen  chili</td>\n",
       "      <td>112140</td>\n",
       "      <td>130</td>\n",
       "      <td>196586</td>\n",
       "      <td>2005-02-25</td>\n",
       "      <td>['time-to-make', 'course', 'preparation', 'mai...</td>\n",
       "      <td>[269.8, 22.0, 32.0, 48.0, 39.0, 27.0, 5.0]</td>\n",
       "      <td>6</td>\n",
       "      <td>['brown ground beef in large pot', 'add choppe...</td>\n",
       "      <td>this modified version of 'mom's' chili was a h...</td>\n",
       "      <td>['ground beef', 'yellow onions', 'diced tomato...</td>\n",
       "      <td>13</td>\n",
       "      <td>1</td>\n",
       "      <td>4.0</td>\n",
       "    </tr>\n",
       "  </tbody>\n",
       "</table>\n",
       "</div>"
      ],
      "text/plain": [
       "                                         name      id  minutes  \\\n",
       "0  arriba   baked winter squash mexican style  137739       55   \n",
       "1            a bit different  breakfast pizza   31490       30   \n",
       "2                   all in the kitchen  chili  112140      130   \n",
       "\n",
       "   contributor_id   submitted  \\\n",
       "0           47892  2005-09-16   \n",
       "1           26278  2002-06-17   \n",
       "2          196586  2005-02-25   \n",
       "\n",
       "                                                tags  \\\n",
       "0  ['60-minutes-or-less', 'time-to-make', 'course...   \n",
       "1  ['30-minutes-or-less', 'time-to-make', 'course...   \n",
       "2  ['time-to-make', 'course', 'preparation', 'mai...   \n",
       "\n",
       "                                    nutrition  n_steps  \\\n",
       "0       [51.5, 0.0, 13.0, 0.0, 2.0, 0.0, 4.0]       11   \n",
       "1   [173.4, 18.0, 0.0, 17.0, 22.0, 35.0, 1.0]        9   \n",
       "2  [269.8, 22.0, 32.0, 48.0, 39.0, 27.0, 5.0]        6   \n",
       "\n",
       "                                               steps  \\\n",
       "0  ['make a choice and proceed with recipe', 'dep...   \n",
       "1  ['preheat oven to 425 degrees f', 'press dough...   \n",
       "2  ['brown ground beef in large pot', 'add choppe...   \n",
       "\n",
       "                                         description  \\\n",
       "0  autumn is my favorite time of year to cook! th...   \n",
       "1  this recipe calls for the crust to be prebaked...   \n",
       "2  this modified version of 'mom's' chili was a h...   \n",
       "\n",
       "                                         ingredients  n_ingredients  \\\n",
       "0  ['winter squash', 'mexican seasoning', 'mixed ...              7   \n",
       "1  ['prepared pizza crust', 'sausage patty', 'egg...              6   \n",
       "2  ['ground beef', 'yellow onions', 'diced tomato...             13   \n",
       "\n",
       "   n_reviews  avg_rating  \n",
       "0          3         5.0  \n",
       "1          4         3.5  \n",
       "2          1         4.0  "
      ]
     },
     "execution_count": 145,
     "metadata": {},
     "output_type": "execute_result"
    }
   ],
   "source": [
    "# Let's also calculate the average rating for each recipe\n",
    "recipe_df_with_rating_info = recipes_df_with_n_reviews\n",
    "\n",
    "# Use the interactions_df to calculate the average rating grouped by recipe_id\n",
    "avg_rating = interactions_df.groupby('recipe_id')['rating'].mean()\n",
    "\n",
    "# Merge the avg_rating into the recipe_df\n",
    "recipe_df_with_rating_info = recipe_df_with_rating_info.merge(avg_rating, how = 'left', left_on='id', right_on='recipe_id')\n",
    "recipe_df_with_rating_info.rename(columns = {'rating':'avg_rating'}, inplace=True)\n",
    "recipe_df_with_rating_info.head(3)"
   ]
  },
  {
   "cell_type": "code",
   "execution_count": 146,
   "id": "5e66bc6d-c037-44a8-811a-f578cc07702d",
   "metadata": {},
   "outputs": [
    {
     "data": {
      "text/plain": [
       "Index(['name', 'id', 'minutes', 'contributor_id', 'submitted', 'tags',\n",
       "       'nutrition', 'n_steps', 'steps', 'description', 'ingredients',\n",
       "       'n_ingredients', 'n_reviews', 'avg_rating'],\n",
       "      dtype='object')"
      ]
     },
     "execution_count": 146,
     "metadata": {},
     "output_type": "execute_result"
    }
   ],
   "source": [
    "recipe_df_with_rating_info.columns"
   ]
  },
  {
   "cell_type": "code",
   "execution_count": 150,
   "id": "a477c5e1-b041-4f3a-9cb7-f8160a72f493",
   "metadata": {},
   "outputs": [
    {
     "data": {
      "image/png": "[encoded data removed]",
      "text/plain": [
       "<Figure size 640x480 with 2 Axes>"
      ]
     },
     "metadata": {},
     "output_type": "display_data"
    }
   ],
   "source": [
    "# Let's create a correlation heatmap of the numerical features in the recipe_df:\n",
    "non_numeric_columns = ['name', 'id', 'submitted','contributor_id', 'tags',\n",
    "       'nutrition', 'steps', 'description', 'ingredients']\n",
    "recipe_df_with_rating_info_numeric = recipe_df_with_rating_info.drop(columns=non_numeric_columns)\n",
    "\n",
    "# Create the correlation matrix out of the numeric columns\n",
    "corr = recipe_df_with_rating_info_numeric.corr()\n",
    "\n",
    "# Use the correlation matrix to create the heatmap\n",
    "_ = sns.heatmap(corr)"
   ]
  },
  {
   "cell_type": "markdown",
   "id": "dd823890-1124-483b-8c86-b15eaa785c04",
   "metadata": {},
   "source": [
    ">Well, this isn't too useful.  The number of ingredients is correlated with the number of steps.  But the number of reviews or average rating don't seem to be correlated to anything."
   ]
  },
  {
   "cell_type": "code",
   "execution_count": 122,
   "id": "2bc425fb-7e0a-496a-89d3-c9c90427c57f",
   "metadata": {},
   "outputs": [
    {
     "name": "stdout",
     "output_type": "stream",
     "text": [
      "The max number of user reviews is: 7671 reviews\n"
     ]
    },
    {
     "data": {
      "image/png": "[encoded data removed]",
      "text/plain": [
       "<Figure size 640x480 with 1 Axes>"
      ]
     },
     "metadata": {},
     "output_type": "display_data"
    }
   ],
   "source": [
    "# Let's show the quantity of reviews generated by each user\n",
    "user_reviews = interactions_df.groupby('user_id').size()\n",
    "\n",
    "# Let's see what the max number of user reviews is:\n",
    "max = np.max(user_reviews)\n",
    "print(f'The max number of user reviews is: {max} reviews') # wow...over 7k reviews!\n",
    "\n",
    "# Let's plot this but exclude users who have generated over 15 reviews\n",
    "bins = np.linspace(np.min(user_reviews), 20, 15)\n",
    "_ = sns.histplot(user_reviews, bins = bins)\n",
    "plt.title('Count of users by number of reviews they have written')\n",
    "plt.xlabel('Number of reviews written')\n",
    "plt.ylabel('Count of users')\n",
    "plt.show()"
   ]
  },
  {
   "cell_type": "markdown",
   "id": "913330e1-f3b9-4bae-8982-0859162f8437",
   "metadata": {},
   "source": [
    ">There are quite a few super users that have generated an enormous number of reviews.  But the vast majority have only written one or two reviews"
   ]
  },
  {
   "cell_type": "markdown",
   "id": "394fa8e3-2943-404e-9a2a-ebe671299312",
   "metadata": {},
   "source": [
    "### Sparcity Calculation"
   ]
  },
  {
   "cell_type": "markdown",
   "id": "38d12385-b344-43d2-848c-33a726553bc1",
   "metadata": {},
   "source": [
    "Sparcity = 1 - (number of interactions / total possible interactions)"
   ]
  },
  {
   "cell_type": "code",
   "execution_count": 138,
   "id": "6c58d879-a883-47da-a2ec-fc1e8f5e19fa",
   "metadata": {},
   "outputs": [
    {
     "name": "stdout",
     "output_type": "stream",
     "text": [
      "The sparcity for this dataset is: 99.9978%\n"
     ]
    }
   ],
   "source": [
    "# Calculate the number of users:\n",
    "n_users = interactions_df['user_id'].nunique()\n",
    "\n",
    "# Calculate the number of recipes:\n",
    "n_recipes = len(recipes_df)\n",
    "\n",
    "# Calculate the total possible interactions:\n",
    "total_possible_interactions = n_users * n_recipes\n",
    "\n",
    "# Calculate the number of actual interactions:\n",
    "actual_interactions = len(interactions_df)\n",
    "\n",
    "# Calculate sparcity:\n",
    "sparcity = (1 - (actual_interactions / total_possible_interactions))*100\n",
    "\n",
    "print(f'The sparcity for this dataset is: {sparcity:.4f}%')"
   ]
  }
 ],
 "metadata": {
  "kernelspec": {
   "display_name": "Python 3 (ipykernel)",
   "language": "python",
   "name": "python3"
  },
  "language_info": {
   "codemirror_mode": {
    "name": "ipython",
    "version": 3
   },
   "file_extension": ".py",
   "mimetype": "text/x-python",
   "name": "python",
   "nbconvert_exporter": "python",
   "pygments_lexer": "ipython3",
   "version": "3.11.5"
  }
 },
 "nbformat": 4,
 "nbformat_minor": 5
}
