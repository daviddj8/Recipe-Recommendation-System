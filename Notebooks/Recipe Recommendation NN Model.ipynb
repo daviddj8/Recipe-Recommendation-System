{
 "cells": [
  {
   "cell_type": "markdown",
   "id": "ca892bd2-cd0d-473e-b084-23ceafeb56e6",
   "metadata": {},
   "source": [
    "# Neural Network Recommendation System"
   ]
  },
  {
   "cell_type": "markdown",
   "id": "0dbe6326-7e91-4ca1-acaf-0bdbd70787d4",
   "metadata": {},
   "source": [
    "### Load the data set"
   ]
  },
  {
   "cell_type": "code",
   "execution_count": 1,
   "id": "a80f6d26-46a9-4d3e-810f-93a3b25c488f",
   "metadata": {},
   "outputs": [],
   "source": [
    "# Tensorflow and tensorflow-recommenders needs to be installed for this recommendation system\n",
    "# %pip install tensorflow tensorflow-recommenders"
   ]
  },
  {
   "cell_type": "code",
   "execution_count": 2,
   "id": "3dd8939c-33ae-4e70-a7f9-cfa4359f8593",
   "metadata": {},
   "outputs": [
    {
     "name": "stderr",
     "output_type": "stream",
     "text": [
      "2024-10-25 15:57:14.054424: I tensorflow/core/platform/cpu_feature_guard.cc:182] This TensorFlow binary is optimized to use available CPU instructions in performance-critical operations.\n",
      "To enable the following instructions: SSE4.1 SSE4.2 AVX AVX2 FMA, in other operations, rebuild TensorFlow with the appropriate compiler flags.\n"
     ]
    }
   ],
   "source": [
    "# Import necessary modules\n",
    "import pandas as pd\n",
    "import numpy as np\n",
    "import csv\n",
    "import matplotlib.pyplot as plt\n",
    "import seaborn as sns\n",
    "import ast\n",
    "import tensorflow as tf\n",
    "import tensorflow_recommenders as tfrs\n",
    "from tensorflow.keras.preprocessing.text import Tokenizer\n",
    "from tensorflow.keras.preprocessing.sequence import pad_sequences"
   ]
  },
  {
   "cell_type": "code",
   "execution_count": 3,
   "id": "bf106889-5e3e-474e-aefe-29caaf13f375",
   "metadata": {},
   "outputs": [],
   "source": [
    "# Import the data\n",
    "recipe_df = pd.read_csv('../Data/Cleaned/recipes_df_cleaned.csv')\n",
    "interactions_df = pd.read_csv('../Data/Cleaned/interactions_df_cleaned.csv')"
   ]
  },
  {
   "cell_type": "code",
   "execution_count": 4,
   "id": "89484bd2-3a30-4501-b129-c60ff2b74677",
   "metadata": {},
   "outputs": [
    {
     "data": {
      "text/html": [
       "<div>\n",
       "<style scoped>\n",
       "    .dataframe tbody tr th:only-of-type {\n",
       "        vertical-align: middle;\n",
       "    }\n",
       "\n",
       "    .dataframe tbody tr th {\n",
       "        vertical-align: top;\n",
       "    }\n",
       "\n",
       "    .dataframe thead th {\n",
       "        text-align: right;\n",
       "    }\n",
       "</style>\n",
       "<table border=\"1\" class=\"dataframe\">\n",
       "  <thead>\n",
       "    <tr style=\"text-align: right;\">\n",
       "      <th></th>\n",
       "      <th>name</th>\n",
       "      <th>id</th>\n",
       "      <th>minutes</th>\n",
       "      <th>contributor_id</th>\n",
       "      <th>submitted</th>\n",
       "      <th>tags</th>\n",
       "      <th>nutrition</th>\n",
       "      <th>n_steps</th>\n",
       "      <th>steps</th>\n",
       "      <th>description</th>\n",
       "      <th>ingredients</th>\n",
       "      <th>n_ingredients</th>\n",
       "    </tr>\n",
       "  </thead>\n",
       "  <tbody>\n",
       "    <tr>\n",
       "      <th>0</th>\n",
       "      <td>arriba   baked winter squash mexican style</td>\n",
       "      <td>137739</td>\n",
       "      <td>55</td>\n",
       "      <td>47892</td>\n",
       "      <td>2005-09-16</td>\n",
       "      <td>['60-minutes-or-less', 'time-to-make', 'course...</td>\n",
       "      <td>[51.5, 0.0, 13.0, 0.0, 2.0, 0.0, 4.0]</td>\n",
       "      <td>11</td>\n",
       "      <td>['make a choice and proceed with recipe', 'dep...</td>\n",
       "      <td>autumn is my favorite time of year to cook! th...</td>\n",
       "      <td>['winter squash', 'mexican seasoning', 'mixed ...</td>\n",
       "      <td>7</td>\n",
       "    </tr>\n",
       "    <tr>\n",
       "      <th>1</th>\n",
       "      <td>a bit different  breakfast pizza</td>\n",
       "      <td>31490</td>\n",
       "      <td>30</td>\n",
       "      <td>26278</td>\n",
       "      <td>2002-06-17</td>\n",
       "      <td>['30-minutes-or-less', 'time-to-make', 'course...</td>\n",
       "      <td>[173.4, 18.0, 0.0, 17.0, 22.0, 35.0, 1.0]</td>\n",
       "      <td>9</td>\n",
       "      <td>['preheat oven to 425 degrees f', 'press dough...</td>\n",
       "      <td>this recipe calls for the crust to be prebaked...</td>\n",
       "      <td>['prepared pizza crust', 'sausage patty', 'egg...</td>\n",
       "      <td>6</td>\n",
       "    </tr>\n",
       "    <tr>\n",
       "      <th>2</th>\n",
       "      <td>all in the kitchen  chili</td>\n",
       "      <td>112140</td>\n",
       "      <td>130</td>\n",
       "      <td>196586</td>\n",
       "      <td>2005-02-25</td>\n",
       "      <td>['time-to-make', 'course', 'preparation', 'mai...</td>\n",
       "      <td>[269.8, 22.0, 32.0, 48.0, 39.0, 27.0, 5.0]</td>\n",
       "      <td>6</td>\n",
       "      <td>['brown ground beef in large pot', 'add choppe...</td>\n",
       "      <td>this modified version of 'mom's' chili was a h...</td>\n",
       "      <td>['ground beef', 'yellow onions', 'diced tomato...</td>\n",
       "      <td>13</td>\n",
       "    </tr>\n",
       "    <tr>\n",
       "      <th>3</th>\n",
       "      <td>alouette  potatoes</td>\n",
       "      <td>59389</td>\n",
       "      <td>45</td>\n",
       "      <td>68585</td>\n",
       "      <td>2003-04-14</td>\n",
       "      <td>['60-minutes-or-less', 'time-to-make', 'course...</td>\n",
       "      <td>[368.1, 17.0, 10.0, 2.0, 14.0, 8.0, 20.0]</td>\n",
       "      <td>11</td>\n",
       "      <td>['place potatoes in a large pot of lightly sal...</td>\n",
       "      <td>this is a super easy, great tasting, make ahea...</td>\n",
       "      <td>['spreadable cheese with garlic and herbs', 'n...</td>\n",
       "      <td>11</td>\n",
       "    </tr>\n",
       "    <tr>\n",
       "      <th>4</th>\n",
       "      <td>amish  tomato ketchup  for canning</td>\n",
       "      <td>44061</td>\n",
       "      <td>190</td>\n",
       "      <td>41706</td>\n",
       "      <td>2002-10-25</td>\n",
       "      <td>['weeknight', 'time-to-make', 'course', 'main-...</td>\n",
       "      <td>[352.9, 1.0, 337.0, 23.0, 3.0, 0.0, 28.0]</td>\n",
       "      <td>5</td>\n",
       "      <td>['mix all ingredients&amp; boil for 2 1 / 2 hours ...</td>\n",
       "      <td>my dh's amish mother raised him on this recipe...</td>\n",
       "      <td>['tomato juice', 'apple cider vinegar', 'sugar...</td>\n",
       "      <td>8</td>\n",
       "    </tr>\n",
       "  </tbody>\n",
       "</table>\n",
       "</div>"
      ],
      "text/plain": [
       "                                         name      id  minutes  \\\n",
       "0  arriba   baked winter squash mexican style  137739       55   \n",
       "1            a bit different  breakfast pizza   31490       30   \n",
       "2                   all in the kitchen  chili  112140      130   \n",
       "3                          alouette  potatoes   59389       45   \n",
       "4          amish  tomato ketchup  for canning   44061      190   \n",
       "\n",
       "   contributor_id   submitted  \\\n",
       "0           47892  2005-09-16   \n",
       "1           26278  2002-06-17   \n",
       "2          196586  2005-02-25   \n",
       "3           68585  2003-04-14   \n",
       "4           41706  2002-10-25   \n",
       "\n",
       "                                                tags  \\\n",
       "0  ['60-minutes-or-less', 'time-to-make', 'course...   \n",
       "1  ['30-minutes-or-less', 'time-to-make', 'course...   \n",
       "2  ['time-to-make', 'course', 'preparation', 'mai...   \n",
       "3  ['60-minutes-or-less', 'time-to-make', 'course...   \n",
       "4  ['weeknight', 'time-to-make', 'course', 'main-...   \n",
       "\n",
       "                                    nutrition  n_steps  \\\n",
       "0       [51.5, 0.0, 13.0, 0.0, 2.0, 0.0, 4.0]       11   \n",
       "1   [173.4, 18.0, 0.0, 17.0, 22.0, 35.0, 1.0]        9   \n",
       "2  [269.8, 22.0, 32.0, 48.0, 39.0, 27.0, 5.0]        6   \n",
       "3   [368.1, 17.0, 10.0, 2.0, 14.0, 8.0, 20.0]       11   \n",
       "4   [352.9, 1.0, 337.0, 23.0, 3.0, 0.0, 28.0]        5   \n",
       "\n",
       "                                               steps  \\\n",
       "0  ['make a choice and proceed with recipe', 'dep...   \n",
       "1  ['preheat oven to 425 degrees f', 'press dough...   \n",
       "2  ['brown ground beef in large pot', 'add choppe...   \n",
       "3  ['place potatoes in a large pot of lightly sal...   \n",
       "4  ['mix all ingredients& boil for 2 1 / 2 hours ...   \n",
       "\n",
       "                                         description  \\\n",
       "0  autumn is my favorite time of year to cook! th...   \n",
       "1  this recipe calls for the crust to be prebaked...   \n",
       "2  this modified version of 'mom's' chili was a h...   \n",
       "3  this is a super easy, great tasting, make ahea...   \n",
       "4  my dh's amish mother raised him on this recipe...   \n",
       "\n",
       "                                         ingredients  n_ingredients  \n",
       "0  ['winter squash', 'mexican seasoning', 'mixed ...              7  \n",
       "1  ['prepared pizza crust', 'sausage patty', 'egg...              6  \n",
       "2  ['ground beef', 'yellow onions', 'diced tomato...             13  \n",
       "3  ['spreadable cheese with garlic and herbs', 'n...             11  \n",
       "4  ['tomato juice', 'apple cider vinegar', 'sugar...              8  "
      ]
     },
     "execution_count": 4,
     "metadata": {},
     "output_type": "execute_result"
    }
   ],
   "source": [
    "recipe_df.head()"
   ]
  },
  {
   "cell_type": "code",
   "execution_count": 97,
   "id": "ebb1c0a4-20f5-493a-bb61-e6829f5574f9",
   "metadata": {},
   "outputs": [
    {
     "data": {
      "text/plain": [
       "231637"
      ]
     },
     "execution_count": 97,
     "metadata": {},
     "output_type": "execute_result"
    }
   ],
   "source": [
    "recipe_df['id'].nunique()"
   ]
  },
  {
   "cell_type": "code",
   "execution_count": 5,
   "id": "2196c966-af24-4d57-a6f4-e6d6607af8bd",
   "metadata": {},
   "outputs": [
    {
     "data": {
      "text/html": [
       "<div>\n",
       "<style scoped>\n",
       "    .dataframe tbody tr th:only-of-type {\n",
       "        vertical-align: middle;\n",
       "    }\n",
       "\n",
       "    .dataframe tbody tr th {\n",
       "        vertical-align: top;\n",
       "    }\n",
       "\n",
       "    .dataframe thead th {\n",
       "        text-align: right;\n",
       "    }\n",
       "</style>\n",
       "<table border=\"1\" class=\"dataframe\">\n",
       "  <thead>\n",
       "    <tr style=\"text-align: right;\">\n",
       "      <th></th>\n",
       "      <th>user_id</th>\n",
       "      <th>recipe_id</th>\n",
       "      <th>date</th>\n",
       "      <th>rating</th>\n",
       "      <th>review</th>\n",
       "    </tr>\n",
       "  </thead>\n",
       "  <tbody>\n",
       "    <tr>\n",
       "      <th>0</th>\n",
       "      <td>38094</td>\n",
       "      <td>40893</td>\n",
       "      <td>2003-02-17</td>\n",
       "      <td>4</td>\n",
       "      <td>Great with a salad. Cooked on top of stove for...</td>\n",
       "    </tr>\n",
       "    <tr>\n",
       "      <th>1</th>\n",
       "      <td>1293707</td>\n",
       "      <td>40893</td>\n",
       "      <td>2011-12-21</td>\n",
       "      <td>5</td>\n",
       "      <td>So simple, so delicious! Great for chilly fall...</td>\n",
       "    </tr>\n",
       "    <tr>\n",
       "      <th>2</th>\n",
       "      <td>8937</td>\n",
       "      <td>44394</td>\n",
       "      <td>2002-12-01</td>\n",
       "      <td>4</td>\n",
       "      <td>This worked very well and is EASY.  I used not...</td>\n",
       "    </tr>\n",
       "    <tr>\n",
       "      <th>3</th>\n",
       "      <td>126440</td>\n",
       "      <td>85009</td>\n",
       "      <td>2010-02-27</td>\n",
       "      <td>5</td>\n",
       "      <td>I made the Mexican topping and took it to bunk...</td>\n",
       "    </tr>\n",
       "    <tr>\n",
       "      <th>4</th>\n",
       "      <td>57222</td>\n",
       "      <td>85009</td>\n",
       "      <td>2011-10-01</td>\n",
       "      <td>5</td>\n",
       "      <td>Made the cheddar bacon topping, adding a sprin...</td>\n",
       "    </tr>\n",
       "  </tbody>\n",
       "</table>\n",
       "</div>"
      ],
      "text/plain": [
       "   user_id  recipe_id        date  rating  \\\n",
       "0    38094      40893  2003-02-17       4   \n",
       "1  1293707      40893  2011-12-21       5   \n",
       "2     8937      44394  2002-12-01       4   \n",
       "3   126440      85009  2010-02-27       5   \n",
       "4    57222      85009  2011-10-01       5   \n",
       "\n",
       "                                              review  \n",
       "0  Great with a salad. Cooked on top of stove for...  \n",
       "1  So simple, so delicious! Great for chilly fall...  \n",
       "2  This worked very well and is EASY.  I used not...  \n",
       "3  I made the Mexican topping and took it to bunk...  \n",
       "4  Made the cheddar bacon topping, adding a sprin...  "
      ]
     },
     "execution_count": 5,
     "metadata": {},
     "output_type": "execute_result"
    }
   ],
   "source": [
    "interactions_df.head()"
   ]
  },
  {
   "cell_type": "markdown",
   "id": "4361a480-23a6-4b33-9457-e1c1bf896c34",
   "metadata": {},
   "source": [
    "### Preparing the Model - Data Preprocessing"
   ]
  },
  {
   "cell_type": "markdown",
   "id": "6ddb0382-2260-47b6-8e2d-473d33089f6e",
   "metadata": {},
   "source": [
    "I need to create a model that will embed users and recipes into a high-dimensional vecor space.  In tensorflow this is called embedding."
   ]
  },
  {
   "cell_type": "markdown",
   "id": "55600038-29c0-40e0-9868-5f35c19494f8",
   "metadata": {},
   "source": [
    "##### Interactions Dataframe"
   ]
  },
  {
   "cell_type": "code",
   "execution_count": 6,
   "id": "093e54cd-857f-4e51-9f6d-49b30b579489",
   "metadata": {},
   "outputs": [],
   "source": [
    "# # I'm going to drop the date column as it is not needed for our recommendation system\n",
    "# interactions_df = interactions_df.drop(columns = 'date')"
   ]
  },
  {
   "cell_type": "code",
   "execution_count": 7,
   "id": "825ebe60-c8cd-4eff-9524-0c54646efef4",
   "metadata": {},
   "outputs": [],
   "source": [
    "# # Next I'm going to tokenize the review column.  This converts the strings into numerical values\n",
    "# interactions_df['review'] = interactions_df['review'].astype(str)\n",
    "# review_tokenizer = Tokenizer()\n",
    "# review_tokenizer.fit_on_texts(interactions_df['review'])\n",
    "# review_sequences = review_tokenizer.texts_to_sequences(interactions_df['review'])"
   ]
  },
  {
   "cell_type": "code",
   "execution_count": 8,
   "id": "6eb53fcc-0d4b-4ec8-baaa-2a5a53321a31",
   "metadata": {},
   "outputs": [],
   "source": [
    "# # Pad the review_sequences to ensure consistency of sequence length\n",
    "# max_review_length = max(len(seq) for seq in review_sequences)\n",
    "# review_padded = pad_sequences(review_sequences, maxlen=max_review_length, padding='post')"
   ]
  },
  {
   "cell_type": "code",
   "execution_count": 9,
   "id": "df86b57c-b372-4518-a699-15a0c6c644e5",
   "metadata": {},
   "outputs": [],
   "source": [
    "# # Convert the dataframes into a tensorflow dataset.\n",
    "# # This isn't necessary but will allow the model to be more efficient and make full use of all of tensorflow's capabilities\n",
    "\n",
    "# features = {\n",
    "#     'user_id': interactions_df['user_id'].values,\n",
    "#     'recipe_id': interactions_df['recipe_id'].values,\n",
    "#     'review': review_padded\n",
    "# }\n",
    "\n",
    "# labels = interactions_df['rating']\n",
    "\n",
    "# interactions_dataset = tf.data.Dataset.from_tensor_slices((features, labels))"
   ]
  },
  {
   "cell_type": "code",
   "execution_count": 10,
   "id": "b4f1caf1-4ea1-4c20-91f8-4ac6cae06b8b",
   "metadata": {},
   "outputs": [],
   "source": [
    "# # Save the tensorflow dataset so i don't have to recreate it every time\n",
    "# interactions_dataset.save('../Data/Preprocessed/TensorFlow_Dataset')\n"
   ]
  },
  {
   "cell_type": "markdown",
   "id": "acb992c4-2b55-49d3-8eae-c4fd9a11f3d0",
   "metadata": {},
   "source": [
    "##### Recipe Dataframe"
   ]
  },
  {
   "cell_type": "code",
   "execution_count": 11,
   "id": "b2f7a8af-a97a-4988-8869-8d3187e56bf8",
   "metadata": {},
   "outputs": [],
   "source": [
    "# # Drop the columns we will not use:\n",
    "# recipe_df = recipe_df.drop(columns = 'submitted')"
   ]
  },
  {
   "cell_type": "code",
   "execution_count": 12,
   "id": "08633cf6-ea4a-4fca-8838-fe370981184f",
   "metadata": {},
   "outputs": [],
   "source": [
    "# # Now lets convert the tags, ingredients, and steps columns into strings\n",
    "\n",
    "# # The tags and ingredients column is a string representation of a list. This converts it to an actual list\n",
    "# recipe_df['tags'] = recipe_df['tags'].apply(lambda x: ast.literal_eval(x))\n",
    "# recipe_df['ingredients'] = recipe_df['ingredients'].apply(lambda x: ast.literal_eval(x))\n",
    "# recipe_df['steps'] = recipe_df['steps'].apply(lambda x: ast.literal_eval(x))\n",
    "\n",
    "# # Convert the lists to strings:\n",
    "# recipe_df['tags'] = recipe_df['tags'].apply(lambda x: ' '.join(x))\n",
    "# recipe_df['ingredients'] = recipe_df['ingredients'].apply(lambda x: ' '.join(x))\n",
    "# recipe_df['steps'] = recipe_df['steps'].apply(lambda x: ' '.join(x))"
   ]
  },
  {
   "cell_type": "code",
   "execution_count": 13,
   "id": "3535ca7a-8c69-4337-8b51-4370c7811bdf",
   "metadata": {},
   "outputs": [],
   "source": [
    "# # Now I need to convert the nutrition column into floats and separate the listed values into the appropriate columns\n",
    "\n",
    "# # Convert the nutrition column from string representation to an actual list of floats:\n",
    "# recipe_df['nutrition'] = recipe_df['nutrition'].apply(lambda x: ast.literal_eval(x))\n",
    "\n",
    "# # Expand the nutrition information into separate columns\n",
    "# # Per the dataset documentation, the columns are ['calories', 'total_fat', 'sugar', 'sodium', 'protein', 'saturated_fat', 'carbohydrates']\n",
    "# nutrition_df = pd.DataFrame(recipe_df['nutrition'].tolist(), columns = ['calories', 'total_fat', 'sugar', 'sodium', 'protein', 'saturated_fat', 'carbohydrates'])"
   ]
  },
  {
   "cell_type": "code",
   "execution_count": 14,
   "id": "5b613f60-4662-4282-a3ac-0a99fa97c86f",
   "metadata": {},
   "outputs": [],
   "source": [
    "# # Concatenate the nutritional information with the recipe_df\n",
    "# recipe_df = pd.concat([recipe_df, nutrition_df], axis = 1)\n",
    "\n",
    "# # Drop the original nutrition column, since that information is now contained in separate columns\n",
    "# recipe_df.drop(columns = ['nutrition'], inplace = True)"
   ]
  },
  {
   "cell_type": "code",
   "execution_count": 15,
   "id": "498ec2cd-1520-412d-8b18-34b61b7e7701",
   "metadata": {},
   "outputs": [],
   "source": [
    "# from tqdm import tqdm\n",
    "\n",
    "# # Tokenize and pad the columns which are strings\n",
    "\n",
    "# # The following columns need to be tokenized: ['name', 'tags', 'steps', 'description', 'ingredients']\n",
    "# columns_to_tokenize = ['name', 'tags', 'steps', 'description', 'ingredients']\n",
    "\n",
    "# padded_sequences = {}\n",
    "# for column in tqdm(columns_to_tokenize):\n",
    "#     recipe_df[column] = recipe_df[column].astype(str)\n",
    "#     tokenizer = Tokenizer()\n",
    "#     tokenizer.fit_on_texts(recipe_df[column])\n",
    "#     sequences = tokenizer.texts_to_sequences(recipe_df[column])\n",
    "#     max_length = max(len(seq) for seq in sequences)\n",
    "#     seq_padded = pad_sequences(sequences, maxlen=max_length, padding='post')\n",
    "#     padded_sequences[column+'_seq'] = seq_padded"
   ]
  },
  {
   "cell_type": "code",
   "execution_count": 16,
   "id": "d141d607-6711-4f86-8321-12649556bba8",
   "metadata": {},
   "outputs": [],
   "source": [
    "# # Convert the dataframes into a tensorflow dataset.\n",
    "# # This isn't necessary but will allow the model to be more efficient and make full use of all of tensorflow's capabilities\n",
    "\n",
    "# features = {\n",
    "#     'name': padded_sequences['name_seq'],\n",
    "#     'recipe_id': recipe_df['id'].values,\n",
    "#     'minutes': recipe_df['minutes'].values,\n",
    "#     'contributor_id': recipe_df['contributor_id'].values,\n",
    "#     'tags': padded_sequences['tags_seq'],\n",
    "#     'n_steps': recipe_df['n_steps'].values,\n",
    "#     'steps': padded_sequences['steps_seq'],\n",
    "#     'description': padded_sequences['description_seq'],\n",
    "#     'ingredients': padded_sequences['ingredients_seq'],\n",
    "#     'n_ingredients': recipe_df['n_ingredients'].values,\n",
    "#     'calories': recipe_df['calories'].values,\n",
    "#     'total_fat': recipe_df['total_fat'].values,\n",
    "#     'sugar': recipe_df['sugar'].values,\n",
    "#     'sodium': recipe_df['sodium'].values,\n",
    "#     'protein': recipe_df['protein'].values,\n",
    "#     'saturated_fat': recipe_df['saturated_fat'].values,\n",
    "#     'carbohydrates': recipe_df['carbohydrates'].values\n",
    "# }\n",
    "\n",
    "\n",
    "# recipe_dataset = tf.data.Dataset.from_tensor_slices(features)"
   ]
  },
  {
   "cell_type": "code",
   "execution_count": 17,
   "id": "232177a3-cfa0-4fbc-b809-b75d2ba97854",
   "metadata": {},
   "outputs": [],
   "source": [
    "# # Save the tensorflow dataset so i don't have to recreate it every time\n",
    "# recipe_dataset.save('../Data/Preprocessed/Recipe_TensorFlow_Dataset')"
   ]
  },
  {
   "cell_type": "code",
   "execution_count": 18,
   "id": "15d722a1-14d1-43e9-8755-1df0ea4c6d49",
   "metadata": {},
   "outputs": [],
   "source": [
    "# Load the preprocessed tensorflow datasets:\n",
    "interactions_dataset = tf.data.Dataset.load('../Data/Preprocessed/Interactions_TensorFlow_Dataset')\n",
    "recipe_dataset = tf.data.Dataset.load('../Data/Preprocessed/Recipe_TensorFlow_Dataset')"
   ]
  },
  {
   "cell_type": "markdown",
   "id": "a4379658-dec2-4aa6-886e-a9f9ef4b6a2d",
   "metadata": {},
   "source": [
    "### Build the retrieval model"
   ]
  },
  {
   "cell_type": "markdown",
   "id": "0c82bad8-0368-40c7-9bdc-aed551400c75",
   "metadata": {},
   "source": [
    "A retrieval model acts as the first stage in a recommendation system, filtering a vast array of options to present a user with a curated list of items that are most likely to meet their needs and interests. Our model will use the user_id and recipe_id to identify which recipes the users has made and retrieve a short list of recipes that are similar to the ones already made."
   ]
  },
  {
   "cell_type": "code",
   "execution_count": 19,
   "id": "cacc52e8-7616-40e8-8b0f-ac20c5c68b89",
   "metadata": {},
   "outputs": [],
   "source": [
    "# For this retrieval model I'll only use the recipe_id and the user_id\n",
    "ratings = interactions_dataset.map(lambda x,y: {\n",
    "    'recipe_id': x['recipe_id'],\n",
    "    'user_id': x['user_id']\n",
    "})\n",
    "\n",
    "recipes = recipe_dataset.map(lambda x: x['recipe_id'])"
   ]
  },
  {
   "cell_type": "code",
   "execution_count": 20,
   "id": "e7f0d919-e571-44e0-85e3-0e54b4756180",
   "metadata": {},
   "outputs": [],
   "source": [
    "# Let's split the dataset into training and test sets\n",
    "tf.random.set_seed(123)\n",
    "train_set_length = int(round(len(interactions_df)*0.7,0))\n",
    "test_set_length = int(round(len(interactions_df)*0.3,0))\n",
    "shuffled = ratings.shuffle(len(interactions_df), seed = 123, reshuffle_each_iteration=False)\n",
    "train = shuffled.take(train_set_length)\n",
    "test = shuffled.skip(train_set_length).take(test_set_length)"
   ]
  },
  {
   "cell_type": "code",
   "execution_count": 21,
   "id": "c40338ce-8403-4ea2-b684-c5d951f230b6",
   "metadata": {},
   "outputs": [],
   "source": [
    "# To execute this model I need to determine what the unique recipe ids and unique user ids are\n",
    "# These unique ids will be used as the \"vocabulary\" and embedded and within their respective models\n",
    "recipe_ids = recipes.batch(1_000)\n",
    "user_ids = ratings.batch(10_000).map(lambda x: x['user_id'])\n",
    "\n",
    "unique_recipes = np.unique(np.concatenate(list(recipe_ids)))\n",
    "unique_user_ids = np.unique(np.concatenate(list(user_ids)))"
   ]
  },
  {
   "cell_type": "code",
   "execution_count": 22,
   "id": "1c5886ac-6f76-4e31-b487-f2b3d44eb1e8",
   "metadata": {},
   "outputs": [],
   "source": [
    "# Create representation models for user_id and recipe_ids:\n",
    "embedding_dimension = 32\n",
    "\n",
    "user_lookup_layer = tf.keras.layers.IntegerLookup()\n",
    "user_lookup_layer.adapt(unique_user_ids)\n",
    "\n",
    "recipe_lookup_layer = tf.keras.layers.IntegerLookup()\n",
    "recipe_lookup_layer.adapt(unique_recipes)\n",
    "\n",
    "user_model = tf.keras.Sequential([\n",
    "    user_lookup_layer,\n",
    "    tf.keras.layers.Embedding(input_dim = len(unique_user_ids)+1, output_dim = embedding_dimension)\n",
    "])\n",
    "\n",
    "recipe_model = tf.keras.Sequential([\n",
    "    recipe_lookup_layer,\n",
    "    tf.keras.layers.Embedding(input_dim = len(unique_recipes)+1, output_dim = embedding_dimension)\n",
    "])"
   ]
  },
  {
   "cell_type": "code",
   "execution_count": 23,
   "id": "617ba16f-daea-4f50-84ae-5821e4bd8a0f",
   "metadata": {},
   "outputs": [],
   "source": [
    "# Establish the metrics to be used to evaluate the model\n",
    "metrics = tfrs.metrics.FactorizedTopK(\n",
    "    candidates= recipes.batch(100).map(recipe_model)\n",
    ")"
   ]
  },
  {
   "cell_type": "markdown",
   "id": "4be3f891-c9fa-4d62-8368-ed7b030f2107",
   "metadata": {},
   "source": [
    "The retrieval function defines a model that will retrieve recipes from the recipe dataset by minimizing crossentropy loss. This loss function works by comparing a user's embedding with both the positive (correct) recipe and a set of negative (random candidate) recipes. The model learns to make the positive recipe closer to the user in embedding space and push the negative recipes further away.\n",
    "\n",
    "During training, the model tries to maximize the dot product between the user embedding and the correct recipe embedding (i.e., the one the user interacted with). Simultaneously, it minimizes the dot product with negative samples (random recipes that the user hasn’t interacted with)."
   ]
  },
  {
   "cell_type": "code",
   "execution_count": 24,
   "id": "b56e9154-e26f-4f4c-a812-8471edd9cb98",
   "metadata": {},
   "outputs": [],
   "source": [
    "# Establish the task using the retrieval function\n",
    "\n",
    "task = tfrs.tasks.Retrieval(\n",
    "    metrics=metrics\n",
    ")"
   ]
  },
  {
   "cell_type": "code",
   "execution_count": 25,
   "id": "835c3efc-79af-43a9-9399-7a3a17902cbe",
   "metadata": {},
   "outputs": [],
   "source": [
    "class RecipeRetrievalModel(tfrs.Model):\n",
    "\n",
    "    def __init__(self, user_model, recipe_model):\n",
    "        super().__init__()\n",
    "        self.recipe_model: tf.keras.Model = recipe_model\n",
    "        self.user_model: tf.keras.Model = user_model\n",
    "        self.task: tf.keras.layers.Layer = task\n",
    "\n",
    "    def compute_loss(self, features: dict[str, tf.Tensor], training = False) -> tf.Tensor:\n",
    "        # Pick out user features and pass them into the user model\n",
    "        user_embeddings = self.user_model(features['user_id'])\n",
    "        # Pick out the recipe features and pass them into the recipe model\n",
    "        recipe_embeddings = self.recipe_model(features['recipe_id'])\n",
    "        # Compute the loss and metrics\n",
    "        return self.task(user_embeddings, recipe_embeddings, compute_metrics = not training)\n",
    "\n",
    "    def call(self, features: dict[str, tf.Tensor]) -> tf.Tensor:\n",
    "        # This will define the model’s forward pass for saving\n",
    "        user_embeddings = self.user_model(features['user_id'])\n",
    "        recipe_embeddings = self.recipe_model(features['recipe_id'])\n",
    "        return user_embeddings, recipe_embeddings"
   ]
  },
  {
   "cell_type": "code",
   "execution_count": 26,
   "id": "d9c429a2-c46d-49cd-8d89-9295289de6d1",
   "metadata": {},
   "outputs": [],
   "source": [
    "model = RecipeRetrievalModel(user_model, recipe_model)\n",
    "model.compile(optimizer = tf.keras.optimizers.Adagrad(learning_rate=0.1))"
   ]
  },
  {
   "cell_type": "code",
   "execution_count": 27,
   "id": "3d28d171-d1bd-4a68-899f-485b52be63b7",
   "metadata": {},
   "outputs": [],
   "source": [
    "# Establish the training and the test data sets\n",
    "cached_train = train.shuffle(1000000).batch(10000).cache()\n",
    "cached_test = test.batch(1000).cache()"
   ]
  },
  {
   "cell_type": "code",
   "execution_count": 28,
   "id": "5eb4b733-42ab-4477-ab5b-b2d5506c3769",
   "metadata": {},
   "outputs": [
    {
     "name": "stdout",
     "output_type": "stream",
     "text": [
      "Epoch 1/5\n",
      "80/80 [==============================] - 242s 1s/step - factorized_top_k/top_1_categorical_accuracy: 0.0000e+00 - factorized_top_k/top_5_categorical_accuracy: 0.0000e+00 - factorized_top_k/top_10_categorical_accuracy: 0.0000e+00 - factorized_top_k/top_50_categorical_accuracy: 0.0000e+00 - factorized_top_k/top_100_categorical_accuracy: 0.0000e+00 - loss: 89741.8414 - regularization_loss: 0.0000e+00 - total_loss: 89741.8414\n",
      "Epoch 2/5\n",
      "80/80 [==============================] - 112s 1s/step - factorized_top_k/top_1_categorical_accuracy: 0.0000e+00 - factorized_top_k/top_5_categorical_accuracy: 0.0000e+00 - factorized_top_k/top_10_categorical_accuracy: 0.0000e+00 - factorized_top_k/top_50_categorical_accuracy: 0.0000e+00 - factorized_top_k/top_100_categorical_accuracy: 0.0000e+00 - loss: 87111.3001 - regularization_loss: 0.0000e+00 - total_loss: 87111.3001\n",
      "Epoch 3/5\n",
      "80/80 [==============================] - 110s 1s/step - factorized_top_k/top_1_categorical_accuracy: 0.0000e+00 - factorized_top_k/top_5_categorical_accuracy: 0.0000e+00 - factorized_top_k/top_10_categorical_accuracy: 0.0000e+00 - factorized_top_k/top_50_categorical_accuracy: 0.0000e+00 - factorized_top_k/top_100_categorical_accuracy: 0.0000e+00 - loss: 81639.9017 - regularization_loss: 0.0000e+00 - total_loss: 81639.9017\n",
      "Epoch 4/5\n",
      "80/80 [==============================] - 244s 3s/step - factorized_top_k/top_1_categorical_accuracy: 0.0000e+00 - factorized_top_k/top_5_categorical_accuracy: 0.0000e+00 - factorized_top_k/top_10_categorical_accuracy: 0.0000e+00 - factorized_top_k/top_50_categorical_accuracy: 0.0000e+00 - factorized_top_k/top_100_categorical_accuracy: 0.0000e+00 - loss: 75140.7177 - regularization_loss: 0.0000e+00 - total_loss: 75140.7177\n",
      "Epoch 5/5\n",
      "80/80 [==============================] - 115s 1s/step - factorized_top_k/top_1_categorical_accuracy: 0.0000e+00 - factorized_top_k/top_5_categorical_accuracy: 0.0000e+00 - factorized_top_k/top_10_categorical_accuracy: 0.0000e+00 - factorized_top_k/top_50_categorical_accuracy: 0.0000e+00 - factorized_top_k/top_100_categorical_accuracy: 0.0000e+00 - loss: 69763.1546 - regularization_loss: 0.0000e+00 - total_loss: 69763.1546\n"
     ]
    }
   ],
   "source": [
    "history = model.fit(cached_train, epochs = 5, verbose=1)"
   ]
  },
  {
   "cell_type": "code",
   "execution_count": 29,
   "id": "bdaf1662-ecc9-483e-9432-91f972c922f2",
   "metadata": {},
   "outputs": [],
   "source": [
    "# # Evaluate the retrieval model\n",
    "# retrieval_model_eval_metrics = model.evaluate(cached_test, return_dict = True, verbose = 1)"
   ]
  },
  {
   "cell_type": "markdown",
   "id": "878cdce1-320f-4fa1-80c6-a5af325f92f7",
   "metadata": {},
   "source": [
    "#### Pull a set of recipe recommendations from the retrieval model"
   ]
  },
  {
   "cell_type": "code",
   "execution_count": 30,
   "id": "f5b85576-7ef1-432f-9450-f27836d9c05e",
   "metadata": {},
   "outputs": [
    {
     "name": "stderr",
     "output_type": "stream",
     "text": [
      "2024-10-25 16:14:21.296638: I tensorflow/core/common_runtime/executor.cc:1197] [/device:CPU:0] (DEBUG INFO) Executor start aborting (this does not indicate an error and you can ignore this message): INVALID_ARGUMENT: You must feed a value for placeholder tensor 'Placeholder/_14' with dtype resource\n",
      "\t [[{{node Placeholder/_14}}]]\n",
      "2024-10-25 16:14:21.297250: I tensorflow/core/common_runtime/executor.cc:1197] [/device:CPU:0] (DEBUG INFO) Executor start aborting (this does not indicate an error and you can ignore this message): INVALID_ARGUMENT: You must feed a value for placeholder tensor 'Placeholder/_14' with dtype resource\n",
      "\t [[{{node Placeholder/_14}}]]\n"
     ]
    },
    {
     "data": {
      "text/plain": [
       "<tensorflow_recommenders.layers.factorized_top_k.BruteForce at 0x196d72410>"
      ]
     },
     "execution_count": 30,
     "metadata": {},
     "output_type": "execute_result"
    }
   ],
   "source": [
    "# Create a model that will take in user ids as inputs and outputs a list of 100 recipes from the entire recipe dataset\n",
    "\n",
    "# The code below calculates the similarity between user and recipe embeddings by comparing every possible user-recipe pair (brute force).\n",
    "recipe_index = tfrs.layers.factorized_top_k.BruteForce(model.user_model)\n",
    "\n",
    "# The code below sets up a searchable index of recipes based on their embeddings.\n",
    "recipe_index.index_from_dataset(\n",
    "    tf.data.Dataset.zip((recipes.batch(100), recipes.batch(100).map(model.recipe_model))) # Converts each batch of recipe IDs into recipe embeddings by passing them through model.recipe_model.\n",
    ")"
   ]
  },
  {
   "cell_type": "code",
   "execution_count": 147,
   "id": "48768ac2-0b2b-49d5-afa4-e348e39035be",
   "metadata": {},
   "outputs": [
    {
     "data": {
      "text/plain": [
       "301"
      ]
     },
     "execution_count": 147,
     "metadata": {},
     "output_type": "execute_result"
    }
   ],
   "source": [
    "len(interactions_df[interactions_df['user_id']==92385])"
   ]
  },
  {
   "cell_type": "code",
   "execution_count": 148,
   "id": "a9872ed0-f76d-4686-a488-3bb7e4bf94e9",
   "metadata": {},
   "outputs": [],
   "source": [
    "# Define a function that will input the userid and produce a list of recommended recipe names from the retrieval model\n",
    "def Retrieval_Recommendations_user(user_id, num_results = 30):\n",
    "    '''\n",
    "    Input a user id and returns a list of recipe names and ids that are likely to be of interest\n",
    "    to the user based on their previous interactions. This filters out recipes which the user has already\n",
    "    made.\n",
    "    '''    \n",
    "    num_interactions = len(interactions_df[interactions_df['user_id']==user_id])\n",
    "    num_results = num_interactions + 30\n",
    "    \n",
    "    _, recipe_id = recipe_index(tf.constant([user_id]), k = num_results)\n",
    "    \n",
    "    # Convert recipe_id to a list of recipe IDs\n",
    "    recipe_id = recipe_id.numpy().flatten().tolist()\n",
    "    \n",
    "    # Filter out recipes which the user has already cooked\n",
    "    cooked_recipes = interactions_df[interactions_df['user_id'] == user_id]['recipe_id'].values\n",
    "    recommended_recipe_ids = [id for id in recipe_id if id not in cooked_recipes]\n",
    "\n",
    "    # Produce recipe names from the recipe ids\n",
    "    recommended_recipe_names = recipe_df[recipe_df['id'].isin(recommended_recipe_ids)]['name'].tolist()\n",
    "    \n",
    "    return recommended_recipe_names, recommended_recipe_ids"
   ]
  },
  {
   "cell_type": "code",
   "execution_count": 51,
   "id": "1913fc95-7837-45db-ae57-61adc90263e2",
   "metadata": {},
   "outputs": [
    {
     "data": {
      "text/plain": [
       "(['slightly spicy  black bean burgers',\n",
       "  'balsamic chicken thighs',\n",
       "  'brussels sprouts in garlic butter',\n",
       "  'burritos for the crock pot',\n",
       "  'chicken breasts with spicy honey orange glaze',\n",
       "  'chicken fried rice   oamc',\n",
       "  'chickpeas with spinach  greek',\n",
       "  'chinese beef and broccoli',\n",
       "  'finger lickin good bbq sauce',\n",
       "  'ground beef with cabbage',\n",
       "  'gumbo',\n",
       "  'mary s blue cheese dressing',\n",
       "  'mocha mousse  with tofu',\n",
       "  'puppy chow snack mix',\n",
       "  'quaker oats meatloaf',\n",
       "  'spicy croutons',\n",
       "  'spicy smoky soulful lentil soup',\n",
       "  'spinach   cheese grilled sandwich',\n",
       "  'thai peanut stir fry sauce',\n",
       "  'tomato basil soup',\n",
       "  'whole wheat cornbread'],\n",
       " [76250,\n",
       "  21561,\n",
       "  32042,\n",
       "  80963,\n",
       "  81968,\n",
       "  48663,\n",
       "  38444,\n",
       "  1267,\n",
       "  110139,\n",
       "  111462,\n",
       "  5297,\n",
       "  19023,\n",
       "  40654,\n",
       "  28249,\n",
       "  1035,\n",
       "  71557,\n",
       "  8654,\n",
       "  21007,\n",
       "  70362,\n",
       "  21761,\n",
       "  86350])"
      ]
     },
     "execution_count": 51,
     "metadata": {},
     "output_type": "execute_result"
    }
   ],
   "source": [
    "# Test the retrieval recommendations function\n",
    "Retrieval_Recommendations_user(38094)"
   ]
  },
  {
   "cell_type": "markdown",
   "id": "08f7f821-1405-4013-8e94-047adbe96b84",
   "metadata": {},
   "source": [
    "#### Save the retrieval model"
   ]
  },
  {
   "cell_type": "code",
   "execution_count": 33,
   "id": "1ae7fc33-7b17-443c-9742-dbba0dd5cbd3",
   "metadata": {},
   "outputs": [],
   "source": [
    "# Save the model\n",
    "# tf.keras.models.save_model(recipe_index, '../Models/model_retrieval1_bf')"
   ]
  },
  {
   "cell_type": "code",
   "execution_count": 34,
   "id": "f074a244-756d-4294-a748-9e0c36823f92",
   "metadata": {},
   "outputs": [],
   "source": [
    "# Save the training history and eval metrics\n",
    "\n",
    "# retrieval_model_training_metrics = history.history\n",
    "# history_df = pd.DataFrame(retrieval_model_training_metrics)\n",
    "# history_df.to_csv('../Models/Model_Metrics/model_retrieval1_history.csv')\n",
    "# history_df.head()\n",
    "\n",
    "# eval_df = pd.DataFrame([retrieval_model_eval_metrics])\n",
    "# eval_df.to_csv('../Models/Model_Metrics/model_retrieval1_eval.csv')\n",
    "# eval_df.head()"
   ]
  },
  {
   "cell_type": "markdown",
   "id": "4b451134-c2fe-49bf-8b5f-8f7905eb82ac",
   "metadata": {},
   "source": [
    "### Build the ranking model"
   ]
  },
  {
   "cell_type": "markdown",
   "id": "28748469-d057-41c7-a0ee-a09d875ac0bc",
   "metadata": {},
   "source": [
    "The ranking model takes the outputs of the retrieval model and selects the best possible handful of recommendations based on other features in the interactions dataset such as ratings. Its task is to narrow down the set of items the user may be interested in to a shortlist of likely candidates."
   ]
  },
  {
   "cell_type": "markdown",
   "id": "e93b4743-8a35-41c9-9a7e-071974ad66e1",
   "metadata": {},
   "source": [
    "#### Load the retrieval model"
   ]
  },
  {
   "cell_type": "code",
   "execution_count": 35,
   "id": "a5eec732-4aba-4077-be18-4b41b2ba7807",
   "metadata": {},
   "outputs": [],
   "source": [
    "# retrieval_model = tf.keras.models.load_model('../Models/model_retrieval1_bf')"
   ]
  },
  {
   "cell_type": "markdown",
   "id": "7098798e-d04f-4ee2-8ef6-c45821f37bdf",
   "metadata": {},
   "source": [
    "#### Prepare the dataset"
   ]
  },
  {
   "cell_type": "markdown",
   "id": "edaf3cd2-c52c-41de-99d2-65e503e878fc",
   "metadata": {},
   "source": [
    "For this model I'll use the interactions dataset and include the previous recipe rankings by the user"
   ]
  },
  {
   "cell_type": "code",
   "execution_count": 36,
   "id": "31577a82-d18f-4577-9097-235c9c1f5680",
   "metadata": {},
   "outputs": [],
   "source": [
    "ratings = interactions_dataset.map(lambda x, y:{\n",
    "    'recipe_id': x['recipe_id'],\n",
    "    'user_id': x['user_id'],\n",
    "    'rating': y\n",
    "})"
   ]
  },
  {
   "cell_type": "code",
   "execution_count": 37,
   "id": "d505c45d-b326-4222-8d1d-9bc16ebfe26a",
   "metadata": {},
   "outputs": [],
   "source": [
    "# Split the dataset into training and test sets\n",
    "tf.random.set_seed(123)\n",
    "train_set_length = int(round(len(interactions_df)*0.7,0))\n",
    "test_set_length = int(round(len(interactions_df)*0.3,0))\n",
    "shuffled = ratings.shuffle(len(interactions_df), seed = 123, reshuffle_each_iteration=False)\n",
    "train = shuffled.take(train_set_length)\n",
    "test = shuffled.skip(train_set_length).take(test_set_length)"
   ]
  },
  {
   "cell_type": "markdown",
   "id": "ba8ca00b-0e6a-43ae-b373-57da1b744384",
   "metadata": {},
   "source": [
    "#### Build the rankings model"
   ]
  },
  {
   "cell_type": "markdown",
   "id": "ec9aacc1-a3eb-4e76-a9ea-0533d295bb52",
   "metadata": {},
   "source": [
    "First, I'll create a model architecture that will take a user id and recipe id as inputs and return a predicted rating using the previously trained user and recipe embeddings"
   ]
  },
  {
   "cell_type": "code",
   "execution_count": 38,
   "id": "5619cb5f-0f50-40a7-a9e5-b7cff17807bd",
   "metadata": {},
   "outputs": [],
   "source": [
    "class RankingModel(tf.keras.Model):\n",
    "\n",
    "    def __init__(self, user_model, recipe_model):\n",
    "        super().__init__()\n",
    "        \n",
    "        # Import the user embeddings from the retrieval model. This incorporates the retrieval model learnings\n",
    "        # i.e., the embeddings contain information related to which recipes the user is likely to choose based on which ones they've already interacted with\n",
    "        self.user_model: tf.keras.Model = user_model\n",
    "        self.recipe_model: tf.keras.Model = recipe_model\n",
    "\n",
    "        # Build a sequential model to predict the rankings\n",
    "        self.rating_model: tf.keras.Sequential = tf.keras.Sequential(\n",
    "            [\n",
    "                tf.keras.layers.Dense(256, activation = 'relu'),\n",
    "                tf.keras.layers.Dense(64, activation = 'relu'),\n",
    "                tf.keras.layers.Dense(1) # This will provide a continuous output to predict the rating of the recipe for the particular user\n",
    "            ])\n",
    "        \n",
    "\n",
    "    def call(self, inputs):\n",
    "        user_id, recipe_id = inputs #This model will take a user_id and recipe_id as inputs\n",
    "        user_embeddings = self.user_model(user_id)\n",
    "        recipe_embeddings = self.recipe_model(recipe_id)\n",
    "        concatenated = tf.concat([user_embeddings, recipe_embeddings], axis=1)\n",
    "        return self.rating_model(concatenated) # The model will output a rating of the recipe for the particular user\n",
    "        \n",
    "\n",
    "        "
   ]
  },
  {
   "cell_type": "code",
   "execution_count": 39,
   "id": "04fcf9aa-77fa-4ed3-9806-62346b1c09c6",
   "metadata": {},
   "outputs": [
    {
     "data": {
      "text/plain": [
       "<tf.Tensor: shape=(1, 1), dtype=float32, numpy=array([[0.10222232]], dtype=float32)>"
      ]
     },
     "execution_count": 39,
     "metadata": {},
     "output_type": "execute_result"
    }
   ],
   "source": [
    "# Test the ranking model.  It should produce a predicted rating when fed a user id and recipe id\n",
    "RankingModel(user_model, recipe_model)((tf.constant([38094]),tf.constant([40753])))"
   ]
  },
  {
   "cell_type": "code",
   "execution_count": 40,
   "id": "b8d32857-53cf-495a-a743-9e44bdd0d81c",
   "metadata": {},
   "outputs": [],
   "source": [
    "# Define the task of the recipe ranking model, which will be to minimize the MSE of predicted ratings\n",
    "\n",
    "task = tfrs.tasks.Ranking(\n",
    "    loss = tf.keras.losses.MeanSquaredError(), # We'll use MSE as the loss function for the ranking model\n",
    "    metrics = [tf.keras.metrics.RootMeanSquaredError()] # We'll use RMSE as the metric to evaluate the ranking model\n",
    ")\n"
   ]
  },
  {
   "cell_type": "code",
   "execution_count": 41,
   "id": "deae7e57-dcef-4ac9-8fb1-b5ae187f79a6",
   "metadata": {},
   "outputs": [],
   "source": [
    "class RecipeRatingModel(tfrs.models.Model):\n",
    "\n",
    "    def __init__(self):\n",
    "        super().__init__()\n",
    "        self.ranking_model: tf.keras.Model = RankingModel(user_model, recipe_model)\n",
    "        self.task: tf.keras.layers.Layer = task\n",
    "\n",
    "    def call(self, features: dict[str, tf.Tensor]) -> tf.Tensor:\n",
    "        return self.ranking_model(\n",
    "            (features['user_id'], features['recipe_id']))\n",
    "\n",
    "    def compute_loss(self, features: dict[str, tf.Tensor], training = False) -> tf.Tensor:\n",
    "        labels = features.pop('rating')\n",
    "\n",
    "        predicted_ratings = self(features)\n",
    "    \n",
    "        loss = self.task(labels = labels, predictions = predicted_ratings)\n",
    "        \n",
    "        return loss"
   ]
  },
  {
   "cell_type": "code",
   "execution_count": 42,
   "id": "cd8c72b5-cf77-4591-912f-a3eb96350c1c",
   "metadata": {},
   "outputs": [],
   "source": [
    "# Establish the training and the test data sets\n",
    "cached_train = train.shuffle(1000000).batch(10000).cache()\n",
    "cached_test = test.batch(1000).cache()"
   ]
  },
  {
   "cell_type": "code",
   "execution_count": 43,
   "id": "d13d9a13-d9ee-4db4-9d38-9e403e10109c",
   "metadata": {},
   "outputs": [
    {
     "name": "stdout",
     "output_type": "stream",
     "text": [
      "Epoch 1/5\n",
      "80/80 [==============================] - 127s 102ms/step - root_mean_squared_error: 1.9464 - loss: 3.7407 - regularization_loss: 0.0000e+00 - total_loss: 3.7407\n",
      "Epoch 2/5\n",
      "80/80 [==============================] - 4s 48ms/step - root_mean_squared_error: 1.2376 - loss: 1.5317 - regularization_loss: 0.0000e+00 - total_loss: 1.5317\n",
      "Epoch 3/5\n",
      "80/80 [==============================] - 4s 45ms/step - root_mean_squared_error: 1.2344 - loss: 1.5239 - regularization_loss: 0.0000e+00 - total_loss: 1.5239\n",
      "Epoch 4/5\n",
      "80/80 [==============================] - 4s 48ms/step - root_mean_squared_error: 1.2306 - loss: 1.5145 - regularization_loss: 0.0000e+00 - total_loss: 1.5145\n",
      "Epoch 5/5\n",
      "80/80 [==============================] - 4s 48ms/step - root_mean_squared_error: 1.2290 - loss: 1.5106 - regularization_loss: 0.0000e+00 - total_loss: 1.5106\n"
     ]
    }
   ],
   "source": [
    "recipe_rating_model = RecipeRatingModel()\n",
    "recipe_rating_model.compile(optimizer = tf.keras.optimizers.Adagrad(learning_rate = 0.1))\n",
    "history = recipe_rating_model.fit(cached_train, epochs = 5, verbose = 1)"
   ]
  },
  {
   "cell_type": "code",
   "execution_count": 44,
   "id": "aacdbca7-557a-4682-b300-352985dc9c65",
   "metadata": {},
   "outputs": [
    {
     "name": "stdout",
     "output_type": "stream",
     "text": [
      "340/340 [==============================] - 119s 11ms/step - root_mean_squared_error: 1.2278 - loss: 1.5069 - regularization_loss: 0.0000e+00 - total_loss: 1.5069\n"
     ]
    },
    {
     "data": {
      "text/plain": [
       "{'root_mean_squared_error': 1.2278293371200562,\n",
       " 'loss': 1.3361842632293701,\n",
       " 'regularization_loss': 0,\n",
       " 'total_loss': 1.3361842632293701}"
      ]
     },
     "execution_count": 44,
     "metadata": {},
     "output_type": "execute_result"
    }
   ],
   "source": [
    "recipe_rating_model.evaluate(cached_test, return_dict = True, verbose = 1)"
   ]
  },
  {
   "cell_type": "code",
   "execution_count": 110,
   "id": "9aab3a6f-f5de-4485-a33d-cf298236f4ab",
   "metadata": {},
   "outputs": [
    {
     "name": "stdout",
     "output_type": "stream",
     "text": [
      "Ratings:\n",
      "112624:[[4.49862]]\n",
      "493413:[[4.334894]]\n",
      "292963:[[4.302121]]\n",
      "233830:[[4.262704]]\n",
      "429438:[[4.2279067]]\n",
      "157144:[[4.175563]]\n",
      "447553:[[4.1562414]]\n",
      "146058:[[4.132432]]\n",
      "129368:[[4.111205]]\n",
      "1356:[[4.099944]]\n"
     ]
    }
   ],
   "source": [
    "# Let's test the ranking model to ensure it is working correctly:\n",
    "\n",
    "test_ratings = {}\n",
    "test_recipe_ids = interactions_df['recipe_id'].sample(n=10).tolist()\n",
    "for id in test_recipe_ids:\n",
    "    test_ratings[id] = recipe_rating_model({\n",
    "        'user_id': np.array([38094]),\n",
    "        'recipe_id': np.array([id])\n",
    "    })\n",
    "\n",
    "print('Ratings:')\n",
    "for id, score in sorted(test_ratings.items(), key = lambda x: x[1], reverse = True):\n",
    "    print(f'{id}:{score}')\n"
   ]
  },
  {
   "cell_type": "code",
   "execution_count": 115,
   "id": "f9041fda-af7f-4e46-bbd6-55094af6b585",
   "metadata": {},
   "outputs": [],
   "source": [
    "# Create a function that will take a user id and list of recipes as inputs and generate predicted rankings for the recipes for that specific user.\n",
    "def Ranking_Recommendations_user(user_id, recipe_ids):\n",
    "    \n",
    "    '''\n",
    "    Input a user id and list of recipe ids and the function will use the ranking model to return\n",
    "    a list of 5 recipes the user should try next.\n",
    "    '''\n",
    "    \n",
    "    predicted_ratings = {}\n",
    "    for recipe_id in recipe_ids:\n",
    "        predicted_ratings[recipe_id] = recipe_rating_model({\n",
    "            'user_id': np.array([user_id]),\n",
    "            'recipe_id': np.array([recipe_id])\n",
    "        })\n",
    "    \n",
    "    sorted_ratings = sorted(predicted_ratings.items(), key = lambda x: x[1], reverse = True)\n",
    "\n",
    "    recipe_recommendation_names = {}\n",
    "    final_recipe_recommendations = []\n",
    "    \n",
    "    for id, score in sorted_ratings:\n",
    "        recipe_recommendation_names[id] = recipe_df[recipe_df['id']== id]['name'].iloc[0]\n",
    "\n",
    "    for i, (id,name) in enumerate(recipe_recommendation_names.items()):\n",
    "        if i < 5:\n",
    "            final_recipe_recommendations.append(name)\n",
    "\n",
    "    return final_recipe_recommendations\n",
    "        "
   ]
  },
  {
   "cell_type": "code",
   "execution_count": 117,
   "id": "c20a2b79-9ab1-4ea4-b568-c3a518f7ec6d",
   "metadata": {},
   "outputs": [
    {
     "data": {
      "text/plain": [
       "['peanutty sesame noodles',\n",
       " 'loaded potato and buffalo chicken casserole',\n",
       " 'bek s grilled mahi mahi fillets in soy ginger marinade  oamc',\n",
       " 'apricot carrots',\n",
       " 'mcdonald s big mac sauce copycat recipe']"
      ]
     },
     "execution_count": 117,
     "metadata": {},
     "output_type": "execute_result"
    }
   ],
   "source": [
    "Ranking_Recommendations_user(38094, test_recipe_ids)"
   ]
  },
  {
   "cell_type": "code",
   "execution_count": 45,
   "id": "b643327d-c86e-43f9-93a0-1bfce57c5423",
   "metadata": {},
   "outputs": [
    {
     "data": {
      "text/html": [
       "<div>\n",
       "<style scoped>\n",
       "    .dataframe tbody tr th:only-of-type {\n",
       "        vertical-align: middle;\n",
       "    }\n",
       "\n",
       "    .dataframe tbody tr th {\n",
       "        vertical-align: top;\n",
       "    }\n",
       "\n",
       "    .dataframe thead th {\n",
       "        text-align: right;\n",
       "    }\n",
       "</style>\n",
       "<table border=\"1\" class=\"dataframe\">\n",
       "  <thead>\n",
       "    <tr style=\"text-align: right;\">\n",
       "      <th></th>\n",
       "      <th>root_mean_squared_error</th>\n",
       "      <th>loss</th>\n",
       "      <th>regularization_loss</th>\n",
       "      <th>total_loss</th>\n",
       "    </tr>\n",
       "  </thead>\n",
       "  <tbody>\n",
       "    <tr>\n",
       "      <th>0</th>\n",
       "      <td>1.227829</td>\n",
       "      <td>1.336184</td>\n",
       "      <td>0</td>\n",
       "      <td>1.336184</td>\n",
       "    </tr>\n",
       "  </tbody>\n",
       "</table>\n",
       "</div>"
      ],
      "text/plain": [
       "   root_mean_squared_error      loss  regularization_loss  total_loss\n",
       "0                 1.227829  1.336184                    0    1.336184"
      ]
     },
     "execution_count": 45,
     "metadata": {},
     "output_type": "execute_result"
    }
   ],
   "source": [
    "# Save the training history and eval metrics\n",
    "\n",
    "ranking_model_training_metrics = history.history\n",
    "history_df = pd.DataFrame(ranking_model_training_metrics)\n",
    "history_df.to_csv('../Models/Model_Metrics/model_ranking1_history.csv')\n",
    "history_df.head()\n",
    "\n",
    "eval_df = pd.DataFrame([Out[44]])\n",
    "eval_df.to_csv('../Models/Model_Metrics/model_ranking1_eval.csv')\n",
    "eval_df.head()"
   ]
  },
  {
   "cell_type": "markdown",
   "id": "67d9f904-6a53-42cd-88c8-7f808cecd3f3",
   "metadata": {},
   "source": [
    "## Make Recommendations"
   ]
  },
  {
   "cell_type": "markdown",
   "id": "8421f568-d088-4bf2-94dd-b58084a97dbb",
   "metadata": {},
   "source": [
    "I will use the Retrieval_Recommendations_user function built above to create a list of 30 recipes that are most likely to be of interest to the user based on their previous interactions. This list of 30 recipes will be used as an input into the Ranking Recommendations model to predict ratings for the specific user.  The function selects the top 5 predicted ratings to recommend to the user and prints them to the console."
   ]
  },
  {
   "cell_type": "code",
   "execution_count": 163,
   "id": "b9543bb8-b7f2-4b32-a3b3-d89d11e32f00",
   "metadata": {},
   "outputs": [],
   "source": [
    "def RecipeRecommendationFull(user_id):\n",
    "    retrieval_rec_names, retrieval_rec_ids = Retrieval_Recommendations_user(user_id)\n",
    "    recipe_recs = Ranking_Recommendations_user(user_id, retrieval_rec_ids)\n",
    "    return recipe_recs"
   ]
  },
  {
   "cell_type": "code",
   "execution_count": 166,
   "id": "60811314-33ac-4f45-a609-53c72f9146f7",
   "metadata": {},
   "outputs": [
    {
     "name": "stdout",
     "output_type": "stream",
     "text": [
      "Recipe recommendations for user 2001024304:\n",
      "\tperfect pork tenderloin\n",
      "\tpete s scratch pancakes\n",
      "\tp  f  chang s mongolian beef by todd wilbur\n",
      "\tbest banana bread\n",
      "\tbreakfast shepherd s pie\n"
     ]
    }
   ],
   "source": [
    "# Select a  user:\n",
    "random_user = interactions_df['user_id'].sample(n=1).iloc[0]\n",
    "\n",
    "# Obtain a list of 30 recipes the user is likely to prefer from the retreival neural network model and use that list\n",
    "# as an input into the ranking model. Return a list of 5 recipes which had the highest predicted rating\n",
    "recipe_recommendations = RecipeRecommendationFull(random_user)\n",
    "\n",
    "# Print the recommended recipes to the console\n",
    "print(f'Recipe recommendations for user {random_user}:')\n",
    "for recipe in recipe_recommendations:\n",
    "    print('\\t' * 1 + recipe)"
   ]
  }
 ],
 "metadata": {
  "kernelspec": {
   "display_name": "Python 3 (ipykernel)",
   "language": "python",
   "name": "python3"
  },
  "language_info": {
   "codemirror_mode": {
    "name": "ipython",
    "version": 3
   },
   "file_extension": ".py",
   "mimetype": "text/x-python",
   "name": "python",
   "nbconvert_exporter": "python",
   "pygments_lexer": "ipython3",
   "version": "3.11.5"
  }
 },
 "nbformat": 4,
 "nbformat_minor": 5
}
